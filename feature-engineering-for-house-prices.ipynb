{
 "cells": [
  {
   "cell_type": "markdown",
   "id": "8792ba32",
   "metadata": {
    "papermill": {
     "duration": 0.024055,
     "end_time": "2022-10-08T12:03:03.757753",
     "exception": false,
     "start_time": "2022-10-08T12:03:03.733698",
     "status": "completed"
    },
    "tags": []
   },
   "source": [
    "# Introduction #\n",
    "\n",
    "This is my feature engineering project for the [House Prices - Advanced Regression Techniques](https://www.kaggle.com/c/house-prices-advanced-regression-techniques) competition. This competition uses nearly the same data used in the exercises of the [Feature Engineering](https://www.kaggle.com/learn/feature-engineering) course and is based on a [notebook](https://www.kaggle.com/code/ryanholbrook/feature-engineering-for-house-prices) by Ryan Holbrook from the course.\n",
    "\n",
    "Various means of feature engineering will be explored in each section and compiled into a feature engineering pipeline at the end of this notebook.\n",
    "\n",
    "# Step 1 - Preliminaries #\n",
    "## Imports and Configuration ##\n",
    "\n",
    "We'll start by importing the packages we used in the exercises and setting some notebook defaults. Unhide this cell if you'd like to see the libraries we'll use:"
   ]
  },
  {
   "cell_type": "code",
   "execution_count": 1,
   "id": "375e87cb",
   "metadata": {
    "_kg_hide-input": true,
    "execution": {
     "iopub.execute_input": "2022-10-08T12:03:03.800466Z",
     "iopub.status.busy": "2022-10-08T12:03:03.799143Z",
     "iopub.status.idle": "2022-10-08T12:03:05.830911Z",
     "shell.execute_reply": "2022-10-08T12:03:05.829240Z"
    },
    "papermill": {
     "duration": 2.057043,
     "end_time": "2022-10-08T12:03:05.834728",
     "exception": false,
     "start_time": "2022-10-08T12:03:03.777685",
     "status": "completed"
    },
    "tags": []
   },
   "outputs": [],
   "source": [
    "\n",
    "import os\n",
    "import warnings\n",
    "from pathlib import Path\n",
    "\n",
    "import matplotlib.pyplot as plt\n",
    "import numpy as np\n",
    "import pandas as pd\n",
    "import seaborn as sns\n",
    "from IPython.display import display\n",
    "from pandas.api.types import CategoricalDtype\n",
    "\n",
    "from category_encoders import MEstimateEncoder\n",
    "from sklearn.cluster import KMeans\n",
    "from sklearn.decomposition import PCA\n",
    "from sklearn.feature_selection import mutual_info_regression\n",
    "from sklearn.model_selection import KFold, cross_val_score, GridSearchCV, RandomizedSearchCV\n",
    "from xgboost import XGBRegressor\n",
    "\n",
    "# Pandas display options\n",
    "pd.set_option(\"display.max_rows\", 20)\n",
    "pd.set_option(\"display.max_columns\", None)\n",
    "\n",
    "# Set Matplotlib defaults\n",
    "plt.style.use(\"seaborn-whitegrid\")\n",
    "plt.rc(\"figure\", autolayout=True)\n",
    "plt.rc(\n",
    "    \"axes\",\n",
    "    labelweight=\"bold\",\n",
    "    labelsize=\"large\",\n",
    "    titleweight=\"bold\",\n",
    "    titlesize=14,\n",
    "    titlepad=10,\n",
    ")\n",
    "\n",
    "# Mute warnings\n",
    "warnings.filterwarnings('ignore')\n"
   ]
  },
  {
   "cell_type": "markdown",
   "id": "03e2459a",
   "metadata": {
    "papermill": {
     "duration": 0.019088,
     "end_time": "2022-10-08T12:03:05.873445",
     "exception": false,
     "start_time": "2022-10-08T12:03:05.854357",
     "status": "completed"
    },
    "tags": []
   },
   "source": [
    "## Data Preprocessing ##\n",
    "\n",
    "Before we can do any feature engineering, we need to *preprocess* the data to get it in a form suitable for analysis. We'll need to:\n",
    "- **Load** the data from CSV files\n",
    "- **Clean** the data to fix any errors or inconsistencies\n",
    "- **Encode** the statistical data type (numeric, categorical)\n",
    "- **Impute** any missing values\n",
    "\n",
    "We'll wrap all these steps up in a function, which will make easy to get a fresh dataframe whenever needed. After applying the preprocessing steps as listed above, the data splits will be created: one (`df_train`) for training the model, and one (`df_test`) for making the predictions that will be submitted to the competition for scoring on the leaderboard."
   ]
  },
  {
   "cell_type": "code",
   "execution_count": 2,
   "id": "641e4844",
   "metadata": {
    "execution": {
     "iopub.execute_input": "2022-10-08T12:03:05.914037Z",
     "iopub.status.busy": "2022-10-08T12:03:05.913542Z",
     "iopub.status.idle": "2022-10-08T12:03:05.921181Z",
     "shell.execute_reply": "2022-10-08T12:03:05.919983Z"
    },
    "papermill": {
     "duration": 0.03092,
     "end_time": "2022-10-08T12:03:05.923655",
     "exception": false,
     "start_time": "2022-10-08T12:03:05.892735",
     "status": "completed"
    },
    "tags": []
   },
   "outputs": [],
   "source": [
    "def load_data():\n",
    "    # Read data\n",
    "    data_dir = Path(\"../input/house-prices-advanced-regression-techniques/\")\n",
    "    df_train = pd.read_csv(data_dir / \"train.csv\", index_col=\"Id\")\n",
    "    df_test = pd.read_csv(data_dir / \"test.csv\", index_col=\"Id\")\n",
    "    # Merge the splits so we can process them together\n",
    "    df = pd.concat([df_train, df_test])\n",
    "    # Preprocessing\n",
    "    df = clean(df)\n",
    "    df = encode(df)\n",
    "    df = impute(df)\n",
    "    # Reform splits\n",
    "    df_train = df.loc[df_train.index, :]\n",
    "    df_test = df.loc[df_test.index, :]\n",
    "    return df_train, df_test"
   ]
  },
  {
   "cell_type": "markdown",
   "id": "2e8167a1",
   "metadata": {
    "papermill": {
     "duration": 0.018727,
     "end_time": "2022-10-08T12:03:05.961850",
     "exception": false,
     "start_time": "2022-10-08T12:03:05.943123",
     "status": "completed"
    },
    "tags": []
   },
   "source": [
    "### Clean Data ###\n",
    "\n",
    "Some of the categorical features in this dataset have what are apparently typos in their categories.\n",
    "\n",
    "Referring to `data_description.txt`, the column `Exterior2nd` has 3 typos:\n",
    "- `Brk Cmn` should be `BrkComm` \n",
    "- `Wd Sdng` should be `WdShing`\n",
    "- `CmentBd` should be `CemntBd`"
   ]
  },
  {
   "cell_type": "code",
   "execution_count": 3,
   "id": "0bd7fa99",
   "metadata": {
    "execution": {
     "iopub.execute_input": "2022-10-08T12:03:06.003352Z",
     "iopub.status.busy": "2022-10-08T12:03:06.002878Z",
     "iopub.status.idle": "2022-10-08T12:03:06.109052Z",
     "shell.execute_reply": "2022-10-08T12:03:06.107842Z"
    },
    "papermill": {
     "duration": 0.130293,
     "end_time": "2022-10-08T12:03:06.111477",
     "exception": false,
     "start_time": "2022-10-08T12:03:05.981184",
     "status": "completed"
    },
    "tags": []
   },
   "outputs": [
    {
     "data": {
      "text/plain": [
       "array(['VinylSd', 'MetalSd', 'Wd Shng', 'HdBoard', 'Plywood', 'Wd Sdng',\n",
       "       'CmentBd', 'BrkFace', 'Stucco', 'AsbShng', 'Brk Cmn', 'ImStucc',\n",
       "       'AsphShn', 'Stone', 'Other', 'CBlock', nan], dtype=object)"
      ]
     },
     "execution_count": 3,
     "metadata": {},
     "output_type": "execute_result"
    }
   ],
   "source": [
    "data_dir = Path(\"../input/house-prices-advanced-regression-techniques/\")\n",
    "# df = pd.read_csv(data_dir / \"train.csv\", index_col=\"Id\")\n",
    "\n",
    "df_train = pd.read_csv(data_dir / \"train.csv\", index_col=\"Id\")\n",
    "df_test = pd.read_csv(data_dir / \"test.csv\", index_col=\"Id\")\n",
    "# Merge the splits so we can process them together\n",
    "df = pd.concat([df_train, df_test])\n",
    "\n",
    "df.Exterior2nd.unique()"
   ]
  },
  {
   "cell_type": "markdown",
   "id": "c9e91be1",
   "metadata": {
    "papermill": {
     "duration": 0.019129,
     "end_time": "2022-10-08T12:03:06.150213",
     "exception": false,
     "start_time": "2022-10-08T12:03:06.131084",
     "status": "completed"
    },
    "tags": []
   },
   "source": [
    "The column `BldgType` has 3 typos:\n",
    "- `2fmCon` should be `2FmCon` \n",
    "- `Duplex` should be `Duplx`\n",
    "- `Twnhs` should be `TwnhsI`"
   ]
  },
  {
   "cell_type": "code",
   "execution_count": 4,
   "id": "0e7ef257",
   "metadata": {
    "execution": {
     "iopub.execute_input": "2022-10-08T12:03:06.191069Z",
     "iopub.status.busy": "2022-10-08T12:03:06.190564Z",
     "iopub.status.idle": "2022-10-08T12:03:06.200125Z",
     "shell.execute_reply": "2022-10-08T12:03:06.198772Z"
    },
    "papermill": {
     "duration": 0.033791,
     "end_time": "2022-10-08T12:03:06.203427",
     "exception": false,
     "start_time": "2022-10-08T12:03:06.169636",
     "status": "completed"
    },
    "tags": []
   },
   "outputs": [
    {
     "data": {
      "text/plain": [
       "array(['1Fam', '2fmCon', 'Duplex', 'TwnhsE', 'Twnhs'], dtype=object)"
      ]
     },
     "execution_count": 4,
     "metadata": {},
     "output_type": "execute_result"
    }
   ],
   "source": [
    "df.loc[:,'BldgType'].unique()"
   ]
  },
  {
   "cell_type": "markdown",
   "id": "07a99df4",
   "metadata": {
    "papermill": {
     "duration": 0.019811,
     "end_time": "2022-10-08T12:03:06.242871",
     "exception": false,
     "start_time": "2022-10-08T12:03:06.223060",
     "status": "completed"
    },
    "tags": []
   },
   "source": [
    "There are some errors in `GarageYrBlt` where the year is > 2010. This data set only contains data up to 2010."
   ]
  },
  {
   "cell_type": "code",
   "execution_count": 5,
   "id": "f2a91554",
   "metadata": {
    "execution": {
     "iopub.execute_input": "2022-10-08T12:03:06.284917Z",
     "iopub.status.busy": "2022-10-08T12:03:06.283744Z",
     "iopub.status.idle": "2022-10-08T12:03:06.294643Z",
     "shell.execute_reply": "2022-10-08T12:03:06.293528Z"
    },
    "papermill": {
     "duration": 0.034841,
     "end_time": "2022-10-08T12:03:06.297275",
     "exception": false,
     "start_time": "2022-10-08T12:03:06.262434",
     "status": "completed"
    },
    "tags": []
   },
   "outputs": [
    {
     "data": {
      "text/plain": [
       "array([1895., 1896., 1900., 1906., 1908., 1910., 1914., 1915., 1916.,\n",
       "       1917., 1918., 1919., 1920., 1921., 1922., 1923., 1924., 1925.,\n",
       "       1926., 1927., 1928., 1929., 1930., 1931., 1932., 1933., 1934.,\n",
       "       1935., 1936., 1937., 1938., 1939., 1940., 1941., 1942., 1943.,\n",
       "       1945., 1946., 1947., 1948., 1949., 1950., 1951., 1952., 1953.,\n",
       "       1954., 1955., 1956., 1957., 1958., 1959., 1960., 1961., 1962.,\n",
       "       1963., 1964., 1965., 1966., 1967., 1968., 1969., 1970., 1971.,\n",
       "       1972., 1973., 1974., 1975., 1976., 1977., 1978., 1979., 1980.,\n",
       "       1981., 1982., 1983., 1984., 1985., 1986., 1987., 1988., 1989.,\n",
       "       1990., 1991., 1992., 1993., 1994., 1995., 1996., 1997., 1998.,\n",
       "       1999., 2000., 2001., 2002., 2003., 2004., 2005., 2006., 2007.,\n",
       "       2008., 2009., 2010., 2207.,   nan])"
      ]
     },
     "execution_count": 5,
     "metadata": {},
     "output_type": "execute_result"
    }
   ],
   "source": [
    "np.sort(df.loc[:,'GarageYrBlt'].unique())"
   ]
  },
  {
   "cell_type": "markdown",
   "id": "3308a5f1",
   "metadata": {
    "papermill": {
     "duration": 0.019233,
     "end_time": "2022-10-08T12:03:06.336493",
     "exception": false,
     "start_time": "2022-10-08T12:03:06.317260",
     "status": "completed"
    },
    "tags": []
   },
   "source": [
    "**The clean() method below rectifies all the problems found:**"
   ]
  },
  {
   "cell_type": "code",
   "execution_count": 6,
   "id": "f54d950d",
   "metadata": {
    "execution": {
     "iopub.execute_input": "2022-10-08T12:03:06.377990Z",
     "iopub.status.busy": "2022-10-08T12:03:06.377497Z",
     "iopub.status.idle": "2022-10-08T12:03:06.385141Z",
     "shell.execute_reply": "2022-10-08T12:03:06.383907Z"
    },
    "papermill": {
     "duration": 0.031368,
     "end_time": "2022-10-08T12:03:06.387714",
     "exception": false,
     "start_time": "2022-10-08T12:03:06.356346",
     "status": "completed"
    },
    "tags": []
   },
   "outputs": [],
   "source": [
    "def clean(df):\n",
    "    # typos in Exterior2nd\n",
    "    df[\"Exterior2nd\"] = df[\"Exterior2nd\"].replace({\"Brk Cmn\": \"BrkComm\", \n",
    "                                                   \"Wd Shng\": \"WdShing\", \n",
    "                                                   \"CmentBd\": \"CemntBd\"})\n",
    "    \n",
    "    # Some values of GarageYrBlt are corrupt, so we'll replace them\n",
    "    # with the year the house was built. Data set was up to 2010 only.\n",
    "    # where replaces values where the condition is FALSE\n",
    "    df[\"GarageYrBlt\"] = df[\"GarageYrBlt\"].where(df.GarageYrBlt <= 2010, df.YearBuilt)\n",
    "    \n",
    "    # Names beginning with numbers are awkward to work with\n",
    "    df.rename(columns={\n",
    "        \"1stFlrSF\": \"FirstFlrSF\",\n",
    "        \"2ndFlrSF\": \"SecondFlrSF\",\n",
    "        \"3SsnPorch\": \"Threeseasonporch\",\n",
    "        }, inplace=True,\n",
    "    )\n",
    "    return df\n"
   ]
  },
  {
   "cell_type": "markdown",
   "id": "3e46b150",
   "metadata": {
    "papermill": {
     "duration": 0.020807,
     "end_time": "2022-10-08T12:03:06.429323",
     "exception": false,
     "start_time": "2022-10-08T12:03:06.408516",
     "status": "completed"
    },
    "tags": []
   },
   "source": [
    "### Encode the Statistical Data Type ###\n",
    "\n",
    "Pandas has Python types corresponding to the standard statistical types (numeric, categorical, etc.). Encoding each feature with its correct type helps ensure each feature is treated appropriately by whatever functions we use, and makes it easier for us to apply transformations consistently. This cell defines the `encode` function:"
   ]
  },
  {
   "cell_type": "code",
   "execution_count": 7,
   "id": "33923ab4",
   "metadata": {
    "_kg_hide-input": true,
    "execution": {
     "iopub.execute_input": "2022-10-08T12:03:06.472225Z",
     "iopub.status.busy": "2022-10-08T12:03:06.471755Z",
     "iopub.status.idle": "2022-10-08T12:03:06.486016Z",
     "shell.execute_reply": "2022-10-08T12:03:06.484818Z"
    },
    "papermill": {
     "duration": 0.03901,
     "end_time": "2022-10-08T12:03:06.488629",
     "exception": false,
     "start_time": "2022-10-08T12:03:06.449619",
     "status": "completed"
    },
    "tags": []
   },
   "outputs": [],
   "source": [
    "# The numeric features are already encoded correctly (`float` for\n",
    "# continuous, `int` for discrete), but the categoricals we'll need to\n",
    "# do ourselves. Note in particular, that the `MSSubClass` feature is\n",
    "# read as an `int` type, but is actually a (nominative) categorical.\n",
    "\n",
    "# The nominative (unordered) categorical features\n",
    "features_nom = [\"MSSubClass\", \"MSZoning\", \"Street\", \"Alley\", \"LandContour\", \"LotConfig\", \"Neighborhood\", \"Condition1\", \"Condition2\", \"BldgType\", \"HouseStyle\", \"RoofStyle\", \"RoofMatl\", \"Exterior1st\", \"Exterior2nd\", \"MasVnrType\", \"Foundation\", \"Heating\", \"CentralAir\", \"GarageType\", \"MiscFeature\", \"SaleType\", \"SaleCondition\"]\n",
    "\n",
    "\n",
    "# The ordinal (ordered) categorical features \n",
    "\n",
    "# Pandas calls the categories \"levels\"\n",
    "five_levels = [\"Po\", \"Fa\", \"TA\", \"Gd\", \"Ex\"]\n",
    "ten_levels = list(range(10))\n",
    "\n",
    "ordered_levels = {\n",
    "    \"OverallQual\": ten_levels,\n",
    "    \"OverallCond\": ten_levels,\n",
    "    \"ExterQual\": five_levels,\n",
    "    \"ExterCond\": five_levels,\n",
    "    \"BsmtQual\": five_levels,\n",
    "    \"BsmtCond\": five_levels,\n",
    "    \"HeatingQC\": five_levels,\n",
    "    \"KitchenQual\": five_levels,\n",
    "    \"FireplaceQu\": five_levels,\n",
    "    \"GarageQual\": five_levels,\n",
    "    \"GarageCond\": five_levels,\n",
    "    \"PoolQC\": five_levels,\n",
    "    \"LotShape\": [\"IR3\", \"IR2\", \"IR1\", \"Reg\"],\n",
    "    \"LandSlope\": [\"Sev\", \"Mod\", \"Gtl\"],\n",
    "    \"BsmtExposure\": [\"No\", \"Mn\", \"Av\", \"Gd\"],\n",
    "    \"BsmtFinType1\": [\"Unf\", \"LwQ\", \"Rec\", \"BLQ\", \"ALQ\", \"GLQ\"],\n",
    "    \"BsmtFinType2\": [\"Unf\", \"LwQ\", \"Rec\", \"BLQ\", \"ALQ\", \"GLQ\"],\n",
    "    \"Functional\": [\"Sal\", \"Sev\", \"Maj1\", \"Maj2\", \"Mod\", \"Min2\", \"Min1\", \"Typ\"],\n",
    "    \"GarageFinish\": [\"Unf\", \"RFn\", \"Fin\"],\n",
    "    \"PavedDrive\": [\"N\", \"P\", \"Y\"],\n",
    "    \"Utilities\": [\"NoSeWa\", \"NoSewr\", \"AllPub\"],\n",
    "    \"CentralAir\": [\"N\", \"Y\"],\n",
    "    \"Electrical\": [\"Mix\", \"FuseP\", \"FuseF\", \"FuseA\", \"SBrkr\"],\n",
    "    \"Fence\": [\"MnWw\", \"GdWo\", \"MnPrv\", \"GdPrv\"],\n",
    "}\n",
    "\n",
    "# Add a None level for missing values\n",
    "ordered_levels = {key: [\"None\"] + value for key, value in\n",
    "                  ordered_levels.items()}\n",
    "\n",
    "\n",
    "def encode(df):\n",
    "    # Nominal categories\n",
    "    for name in features_nom:\n",
    "        df[name] = df[name].astype(\"category\")\n",
    "        # Add a None category for missing values\n",
    "        if \"None\" not in df[name].cat.categories:\n",
    "            df[name].cat.add_categories(\"None\", inplace=True)\n",
    "    # Ordinal categories\n",
    "    for name, levels in ordered_levels.items():\n",
    "        df[name] = df[name].astype(CategoricalDtype(levels,\n",
    "                                                    ordered=True))\n",
    "    return df\n"
   ]
  },
  {
   "cell_type": "markdown",
   "id": "418782eb",
   "metadata": {
    "papermill": {
     "duration": 0.01935,
     "end_time": "2022-10-08T12:03:06.527946",
     "exception": false,
     "start_time": "2022-10-08T12:03:06.508596",
     "status": "completed"
    },
    "tags": []
   },
   "source": [
    "### Handle Missing Values ###\n",
    "\n",
    "Handling missing values now will make the feature engineering go more smoothly. We'll impute `0` for missing numeric values and `\"None\"` for missing categorical values. \"Missing value\" indicators were tried too but didn't improve performance here: `1` whenever a value was imputed and `0` otherwise."
   ]
  },
  {
   "cell_type": "code",
   "execution_count": 8,
   "id": "0ea6c30b",
   "metadata": {
    "execution": {
     "iopub.execute_input": "2022-10-08T12:03:06.569598Z",
     "iopub.status.busy": "2022-10-08T12:03:06.569089Z",
     "iopub.status.idle": "2022-10-08T12:03:06.575863Z",
     "shell.execute_reply": "2022-10-08T12:03:06.574671Z"
    },
    "papermill": {
     "duration": 0.030609,
     "end_time": "2022-10-08T12:03:06.578234",
     "exception": false,
     "start_time": "2022-10-08T12:03:06.547625",
     "status": "completed"
    },
    "tags": []
   },
   "outputs": [],
   "source": [
    "def impute(df):\n",
    "    for name in df.select_dtypes(\"number\"):\n",
    "#         df[name + '_imputed'] = 0\n",
    "#         df[name + '_imputed'].loc[df[name].isna()] = 1\n",
    "#         df[name + '_imputed'].astype('category')\n",
    "        df[name] = df[name].fillna(0)\n",
    "    for name in df.select_dtypes(\"category\"):\n",
    "#         df[name + '_imputed'] = 0\n",
    "#         df[name + '_imputed'].loc[df[name].isna()] = 1\n",
    "#         df[name + '_imputed'].astype('category')\n",
    "        df[name] = df[name].fillna(\"None\")\n",
    "    return df\n",
    "\n",
    "# No difference in baseline score observed when I included the imputed feature."
   ]
  },
  {
   "cell_type": "markdown",
   "id": "2664be83",
   "metadata": {
    "papermill": {
     "duration": 0.019342,
     "end_time": "2022-10-08T12:03:06.617344",
     "exception": false,
     "start_time": "2022-10-08T12:03:06.598002",
     "status": "completed"
    },
    "tags": []
   },
   "source": [
    "## Load Data ##\n",
    "\n",
    "And now we can call the data loader and get the processed data splits:"
   ]
  },
  {
   "cell_type": "code",
   "execution_count": 9,
   "id": "27dca60e",
   "metadata": {
    "execution": {
     "iopub.execute_input": "2022-10-08T12:03:06.658727Z",
     "iopub.status.busy": "2022-10-08T12:03:06.658263Z",
     "iopub.status.idle": "2022-10-08T12:03:06.841499Z",
     "shell.execute_reply": "2022-10-08T12:03:06.840341Z"
    },
    "papermill": {
     "duration": 0.207403,
     "end_time": "2022-10-08T12:03:06.844329",
     "exception": false,
     "start_time": "2022-10-08T12:03:06.636926",
     "status": "completed"
    },
    "tags": []
   },
   "outputs": [],
   "source": [
    "df_train, df_test = load_data()"
   ]
  },
  {
   "cell_type": "markdown",
   "id": "fc094a7f",
   "metadata": {
    "papermill": {
     "duration": 0.019303,
     "end_time": "2022-10-08T12:03:06.883453",
     "exception": false,
     "start_time": "2022-10-08T12:03:06.864150",
     "status": "completed"
    },
    "tags": []
   },
   "source": [
    "## Establish Baseline ##\n",
    "\n",
    "Finally, let's establish a baseline score to judge our feature engineering against.\n",
    "\n",
    "The `score_dataset()` function will compute the cross-validated RMSLE score for a feature set. We've used XGBoost for our model, but another model to try could be a Linear Regression model such as Lasso or Ridge.\n"
   ]
  },
  {
   "cell_type": "code",
   "execution_count": 10,
   "id": "1e67eb77",
   "metadata": {
    "_kg_hide-input": true,
    "execution": {
     "iopub.execute_input": "2022-10-08T12:03:06.924764Z",
     "iopub.status.busy": "2022-10-08T12:03:06.924295Z",
     "iopub.status.idle": "2022-10-08T12:03:06.933762Z",
     "shell.execute_reply": "2022-10-08T12:03:06.932563Z"
    },
    "papermill": {
     "duration": 0.033018,
     "end_time": "2022-10-08T12:03:06.936202",
     "exception": false,
     "start_time": "2022-10-08T12:03:06.903184",
     "status": "completed"
    },
    "tags": []
   },
   "outputs": [],
   "source": [
    "def score_dataset(X, y, model=XGBRegressor(), encoding=\"label\"):\n",
    "    # Label encoding for categoricals\n",
    "    #\n",
    "    # Label encoding is good for XGBoost and RandomForest, but one-hot\n",
    "    # would be better for models like Lasso or Ridge. The `cat.codes`\n",
    "    # attribute holds the category levels.\n",
    "    if encoding == \"label\":\n",
    "        for colname in X.select_dtypes([\"category\"]):\n",
    "            X[colname] = X[colname].cat.codes\n",
    "    elif encoding == \"onehot\":\n",
    "        for colname in X.select_dtypes([\"category\"]):\n",
    "            X_encoded = pd.get_dummies(X[colname], prefix = colname, drop_first = True)\n",
    "            X = X.join(X_encoded)\n",
    "            X = X.drop(columns = colname)\n",
    "    # Metric for Housing competition is RMSLE (Root Mean Squared Log Error)\n",
    "    log_y = np.log(y)\n",
    "    score = cross_val_score(\n",
    "        model, X, log_y, cv=5, scoring=\"neg_mean_squared_error\",\n",
    "    )\n",
    "    score = -1 * score.mean()\n",
    "    score = np.sqrt(score)\n",
    "    return score\n"
   ]
  },
  {
   "cell_type": "markdown",
   "id": "bafc7b33",
   "metadata": {
    "papermill": {
     "duration": 0.019302,
     "end_time": "2022-10-08T12:03:06.975275",
     "exception": false,
     "start_time": "2022-10-08T12:03:06.955973",
     "status": "completed"
    },
    "tags": []
   },
   "source": [
    "We can reuse this scoring function anytime we want to try out a new feature set. We'll run it now on the processed data with no additional features and get a baseline score:"
   ]
  },
  {
   "cell_type": "code",
   "execution_count": 11,
   "id": "a6586cf4",
   "metadata": {
    "execution": {
     "iopub.execute_input": "2022-10-08T12:03:07.016465Z",
     "iopub.status.busy": "2022-10-08T12:03:07.016002Z",
     "iopub.status.idle": "2022-10-08T12:03:10.111792Z",
     "shell.execute_reply": "2022-10-08T12:03:10.110704Z"
    },
    "papermill": {
     "duration": 3.121686,
     "end_time": "2022-10-08T12:03:10.116699",
     "exception": false,
     "start_time": "2022-10-08T12:03:06.995013",
     "status": "completed"
    },
    "tags": []
   },
   "outputs": [
    {
     "name": "stdout",
     "output_type": "stream",
     "text": [
      "Baseline score: 0.14351 RMSLE\n"
     ]
    }
   ],
   "source": [
    "X = df_train.copy()\n",
    "y = X.pop(\"SalePrice\")\n",
    "\n",
    "baseline_score = score_dataset(X, y)\n",
    "print(f\"Baseline score: {baseline_score:.5f} RMSLE\")"
   ]
  },
  {
   "cell_type": "markdown",
   "id": "7ffbe5d6",
   "metadata": {
    "papermill": {
     "duration": 0.019196,
     "end_time": "2022-10-08T12:03:10.156327",
     "exception": false,
     "start_time": "2022-10-08T12:03:10.137131",
     "status": "completed"
    },
    "tags": []
   },
   "source": [
    "This baseline score helps us to know whether some set of features we've assembled has actually led to any improvement or not.\n",
    "\n",
    "# Step 2 - Feature Utility Scores #\n",
    "\n",
    "We will use mutual information to compute a *utility score* for a feature, giving us an indication of how much potential the feature has. This hidden cell defines the two utility functions we used, `make_mi_scores` and `plot_mi_scores`: "
   ]
  },
  {
   "cell_type": "code",
   "execution_count": 12,
   "id": "9b97cd14",
   "metadata": {
    "_kg_hide-input": true,
    "execution": {
     "iopub.execute_input": "2022-10-08T12:03:10.198015Z",
     "iopub.status.busy": "2022-10-08T12:03:10.197141Z",
     "iopub.status.idle": "2022-10-08T12:03:10.207077Z",
     "shell.execute_reply": "2022-10-08T12:03:10.205991Z"
    },
    "papermill": {
     "duration": 0.034123,
     "end_time": "2022-10-08T12:03:10.209844",
     "exception": false,
     "start_time": "2022-10-08T12:03:10.175721",
     "status": "completed"
    },
    "tags": []
   },
   "outputs": [],
   "source": [
    "def make_mi_scores(X, y):\n",
    "    X = X.copy()\n",
    "    for colname in X.select_dtypes([\"object\", \"category\"]):\n",
    "        X[colname], _ = X[colname].factorize()\n",
    "    # All discrete features should now have integer dtypes\n",
    "    discrete_features = [pd.api.types.is_integer_dtype(t) for t in X.dtypes]\n",
    "    mi_scores = mutual_info_regression(X, y, discrete_features=discrete_features, random_state=0)\n",
    "    mi_scores = pd.Series(mi_scores, name=\"MI Scores\", index=X.columns)\n",
    "    mi_scores = mi_scores.sort_values(ascending=False)\n",
    "    return mi_scores\n",
    "\n",
    "\n",
    "def plot_mi_scores(scores, figsize):\n",
    "    scores = scores.sort_values(ascending=True)\n",
    "    width = np.arange(len(scores))\n",
    "    ticks = list(scores.index)\n",
    "    plt.subplots(figsize=figsize)\n",
    "    plt.barh(width, scores)\n",
    "    plt.yticks(width, ticks)\n",
    "    plt.title(\"Mutual Information Scores\")\n",
    "    for idx, score in enumerate(scores):\n",
    "        plt.annotate(f\"{score:.4f}\", (score, idx), color=\"black\")\n",
    "        "
   ]
  },
  {
   "cell_type": "markdown",
   "id": "44a11db6",
   "metadata": {
    "papermill": {
     "duration": 0.019272,
     "end_time": "2022-10-08T12:03:10.249550",
     "exception": false,
     "start_time": "2022-10-08T12:03:10.230278",
     "status": "completed"
    },
    "tags": []
   },
   "source": [
    "Let's look at our feature scores:"
   ]
  },
  {
   "cell_type": "code",
   "execution_count": 13,
   "id": "66e6f177",
   "metadata": {
    "_kg_hide-input": true,
    "execution": {
     "iopub.execute_input": "2022-10-08T12:03:10.291393Z",
     "iopub.status.busy": "2022-10-08T12:03:10.290888Z",
     "iopub.status.idle": "2022-10-08T12:03:14.380085Z",
     "shell.execute_reply": "2022-10-08T12:03:14.378417Z"
    },
    "papermill": {
     "duration": 4.115453,
     "end_time": "2022-10-08T12:03:14.384524",
     "exception": false,
     "start_time": "2022-10-08T12:03:10.269071",
     "status": "completed"
    },
    "tags": []
   },
   "outputs": [
    {
     "data": {
      "image/png": "[encoded data removed]",
      "text/plain": [
       "<Figure size 720x1080 with 1 Axes>"
      ]
     },
     "metadata": {},
     "output_type": "display_data"
    }
   ],
   "source": [
    "X = df_train.copy()\n",
    "y = X.pop(\"SalePrice\")\n",
    "\n",
    "mi_scores = make_mi_scores(X, y)\n",
    "plot_mi_scores(mi_scores, figsize=(10,15))"
   ]
  },
  {
   "cell_type": "markdown",
   "id": "7c66dc8f",
   "metadata": {
    "papermill": {
     "duration": 0.022512,
     "end_time": "2022-10-08T12:03:14.429840",
     "exception": false,
     "start_time": "2022-10-08T12:03:14.407328",
     "status": "completed"
    },
    "tags": []
   },
   "source": [
    "We can see that we have a number of features that are highly informative and also some that don't seem to be informative at all (at least by themselves). The top scoring features will usually pay-off the most during feature development, so it is a good idea to focus efforts on those. On the other hand, training on uninformative features can lead to overfitting. So, the features with 0.0 scores we'll drop entirely:"
   ]
  },
  {
   "cell_type": "code",
   "execution_count": 14,
   "id": "c6685eaf",
   "metadata": {
    "execution": {
     "iopub.execute_input": "2022-10-08T12:03:14.477303Z",
     "iopub.status.busy": "2022-10-08T12:03:14.476238Z",
     "iopub.status.idle": "2022-10-08T12:03:14.482725Z",
     "shell.execute_reply": "2022-10-08T12:03:14.481481Z"
    },
    "papermill": {
     "duration": 0.033003,
     "end_time": "2022-10-08T12:03:14.485352",
     "exception": false,
     "start_time": "2022-10-08T12:03:14.452349",
     "status": "completed"
    },
    "tags": []
   },
   "outputs": [],
   "source": [
    "def drop_uninformative(df, mi_scores):\n",
    "    return df.loc[:, mi_scores > 0.0]"
   ]
  },
  {
   "cell_type": "markdown",
   "id": "fc6b57d7",
   "metadata": {
    "papermill": {
     "duration": 0.022485,
     "end_time": "2022-10-08T12:03:14.530607",
     "exception": false,
     "start_time": "2022-10-08T12:03:14.508122",
     "status": "completed"
    },
    "tags": []
   },
   "source": [
    "Removing them does lead to a modest performance gain:"
   ]
  },
  {
   "cell_type": "code",
   "execution_count": 15,
   "id": "749c80a0",
   "metadata": {
    "execution": {
     "iopub.execute_input": "2022-10-08T12:03:14.579833Z",
     "iopub.status.busy": "2022-10-08T12:03:14.579383Z",
     "iopub.status.idle": "2022-10-08T12:03:17.705914Z",
     "shell.execute_reply": "2022-10-08T12:03:17.704823Z"
    },
    "papermill": {
     "duration": 3.154329,
     "end_time": "2022-10-08T12:03:17.708600",
     "exception": false,
     "start_time": "2022-10-08T12:03:14.554271",
     "status": "completed"
    },
    "tags": []
   },
   "outputs": [
    {
     "name": "stdout",
     "output_type": "stream",
     "text": [
      "Baseline score: 0.14351\n",
      "Score after dropping columns with 0 mi score: 0.14338 RMSLE\n"
     ]
    }
   ],
   "source": [
    "X = df_train.copy()\n",
    "y = X.pop(\"SalePrice\")\n",
    "X = drop_uninformative(X, mi_scores)\n",
    "\n",
    "score = score_dataset(X, y)\n",
    "print(f\"Baseline score: {baseline_score:.5f}\")\n",
    "print(f\"Score after dropping columns with 0 mi score: {score:.5f} RMSLE\")"
   ]
  },
  {
   "cell_type": "markdown",
   "id": "3df238f7",
   "metadata": {
    "papermill": {
     "duration": 0.021721,
     "end_time": "2022-10-08T12:03:17.752705",
     "exception": false,
     "start_time": "2022-10-08T12:03:17.730984",
     "status": "completed"
    },
    "tags": []
   },
   "source": [
    "# Step 3 - Create Features #\n",
    "\n",
    "Now we'll start developing our feature set.\n",
    "\n",
    "To make our feature engineering workflow more modular, we'll define a function that will take a prepared dataframe and pass it through a pipeline of transformations to get the final feature set. It will look something like this:\n",
    "\n",
    "```\n",
    "def create_features(df):\n",
    "    X = df.copy()\n",
    "    y = X.pop(\"SalePrice\")\n",
    "    X = X.join(create_features_1(X))\n",
    "    X = X.join(create_features_2(X))\n",
    "    X = X.join(create_features_3(X))\n",
    "    # ...\n",
    "    return X\n",
    "```\n",
    "\n",
    "Let's go ahead and define one transformation now, a [label encoding](https://www.kaggle.com/alexisbcook/categorical-variables) for the categorical features:"
   ]
  },
  {
   "cell_type": "code",
   "execution_count": 16,
   "id": "012f537c",
   "metadata": {
    "execution": {
     "iopub.execute_input": "2022-10-08T12:03:17.800302Z",
     "iopub.status.busy": "2022-10-08T12:03:17.799821Z",
     "iopub.status.idle": "2022-10-08T12:03:17.806319Z",
     "shell.execute_reply": "2022-10-08T12:03:17.804979Z"
    },
    "papermill": {
     "duration": 0.033782,
     "end_time": "2022-10-08T12:03:17.808733",
     "exception": false,
     "start_time": "2022-10-08T12:03:17.774951",
     "status": "completed"
    },
    "tags": []
   },
   "outputs": [],
   "source": [
    "def label_encode(df):\n",
    "    X = df.copy()\n",
    "    for colname in X.select_dtypes([\"category\"]):\n",
    "        X[colname] = X[colname].cat.codes\n",
    "    return X\n"
   ]
  },
  {
   "cell_type": "markdown",
   "id": "4f2b2fc4",
   "metadata": {
    "papermill": {
     "duration": 0.021727,
     "end_time": "2022-10-08T12:03:17.852812",
     "exception": false,
     "start_time": "2022-10-08T12:03:17.831085",
     "status": "completed"
    },
    "tags": []
   },
   "source": [
    "A label encoding is okay for any kind of categorical feature when you're using a tree-ensemble like XGBoost, even for unordered categories. If we wanted to try a linear regression model (also popular in this competition), we would instead want to use a one-hot encoding, especially for the features with unordered categories.\n",
    "\n",
    "## Create Features with Pandas ##\n",
    "\n",
    "Since we are working with XGBoost, a tree based model, we will focus on ratios and sums in creating features."
   ]
  },
  {
   "cell_type": "markdown",
   "id": "c841b77b",
   "metadata": {
    "papermill": {
     "duration": 0.02203,
     "end_time": "2022-10-08T12:03:17.897322",
     "exception": false,
     "start_time": "2022-10-08T12:03:17.875292",
     "status": "completed"
    },
    "tags": []
   },
   "source": [
    "### Mathematical Transforms\n",
    "**Test a feature of the ratio between GrLivArea and LotArea.**  \n",
    "This ratio measures the efficiency of area usage. For housing, a house with a greater proportion of the Lot Area being built up should be worth more."
   ]
  },
  {
   "cell_type": "code",
   "execution_count": 17,
   "id": "d547b37d",
   "metadata": {
    "execution": {
     "iopub.execute_input": "2022-10-08T12:03:17.943583Z",
     "iopub.status.busy": "2022-10-08T12:03:17.943137Z",
     "iopub.status.idle": "2022-10-08T12:03:21.197311Z",
     "shell.execute_reply": "2022-10-08T12:03:21.195591Z"
    },
    "papermill": {
     "duration": 3.281679,
     "end_time": "2022-10-08T12:03:21.201336",
     "exception": false,
     "start_time": "2022-10-08T12:03:17.919657",
     "status": "completed"
    },
    "tags": []
   },
   "outputs": [
    {
     "name": "stdout",
     "output_type": "stream",
     "text": [
      "Baseline score: 0.14351\n",
      "Score after mathematical transforms: 0.14236 RMSLE\n"
     ]
    }
   ],
   "source": [
    "X = df_train.copy()\n",
    "y = X.pop(\"SalePrice\")\n",
    "X[\"LivLotRatio\"] = X.GrLivArea / X.LotArea\n",
    "\n",
    "score = score_dataset(X, y)\n",
    "print(f\"Baseline score: {baseline_score:.5f}\")\n",
    "print(f\"Score after mathematical transforms: {score:.5f} RMSLE\")"
   ]
  },
  {
   "cell_type": "markdown",
   "id": "e307a367",
   "metadata": {
    "papermill": {
     "duration": 0.023505,
     "end_time": "2022-10-08T12:03:21.248370",
     "exception": false,
     "start_time": "2022-10-08T12:03:21.224865",
     "status": "completed"
    },
    "tags": []
   },
   "source": [
    "**Test a feature of average room size, representing spaciousness.**  \n",
    "This ratio shows us how spacious the interior is."
   ]
  },
  {
   "cell_type": "code",
   "execution_count": 18,
   "id": "805d9791",
   "metadata": {
    "execution": {
     "iopub.execute_input": "2022-10-08T12:03:21.296960Z",
     "iopub.status.busy": "2022-10-08T12:03:21.295721Z",
     "iopub.status.idle": "2022-10-08T12:03:25.580964Z",
     "shell.execute_reply": "2022-10-08T12:03:25.579055Z"
    },
    "papermill": {
     "duration": 4.312251,
     "end_time": "2022-10-08T12:03:25.584028",
     "exception": false,
     "start_time": "2022-10-08T12:03:21.271777",
     "status": "completed"
    },
    "tags": []
   },
   "outputs": [
    {
     "name": "stdout",
     "output_type": "stream",
     "text": [
      "Baseline score: 0.14351\n",
      "Score after mathematical transforms: 0.14079 RMSLE\n"
     ]
    }
   ],
   "source": [
    "X = df_train.copy()\n",
    "y = X.pop(\"SalePrice\")\n",
    "X[\"Spaciousness\"] = X.GrLivArea / X.TotRmsAbvGrd\n",
    "\n",
    "score = score_dataset(X, y)\n",
    "print(f\"Baseline score: {baseline_score:.5f}\")\n",
    "print(f\"Score after mathematical transforms: {score:.5f} RMSLE\")"
   ]
  },
  {
   "cell_type": "markdown",
   "id": "f77c13e9",
   "metadata": {
    "papermill": {
     "duration": 0.023343,
     "end_time": "2022-10-08T12:03:25.631816",
     "exception": false,
     "start_time": "2022-10-08T12:03:25.608473",
     "status": "completed"
    },
    "tags": []
   },
   "source": [
    "**Test a feature of total outside square footage.**  \n",
    "This ratio shows us the total size of usable exterior space."
   ]
  },
  {
   "cell_type": "code",
   "execution_count": 19,
   "id": "2577d49d",
   "metadata": {
    "execution": {
     "iopub.execute_input": "2022-10-08T12:03:25.679936Z",
     "iopub.status.busy": "2022-10-08T12:03:25.679029Z",
     "iopub.status.idle": "2022-10-08T12:03:29.008743Z",
     "shell.execute_reply": "2022-10-08T12:03:29.007744Z"
    },
    "papermill": {
     "duration": 3.356526,
     "end_time": "2022-10-08T12:03:29.011776",
     "exception": false,
     "start_time": "2022-10-08T12:03:25.655250",
     "status": "completed"
    },
    "tags": []
   },
   "outputs": [
    {
     "name": "stdout",
     "output_type": "stream",
     "text": [
      "Baseline score: 0.14351\n",
      "Score after mathematical transforms: 0.13938 RMSLE\n"
     ]
    }
   ],
   "source": [
    "X = df_train.copy()\n",
    "y = X.pop(\"SalePrice\")\n",
    "X[\"TotalOutsideSF\"] = \\\n",
    "        X.WoodDeckSF + X.OpenPorchSF + X.EnclosedPorch + \\\n",
    "        X.Threeseasonporch + X.ScreenPorch\n",
    "\n",
    "score = score_dataset(X, y)\n",
    "print(f\"Baseline score: {baseline_score:.5f}\")\n",
    "print(f\"Score after mathematical transforms: {score:.5f} RMSLE\")"
   ]
  },
  {
   "cell_type": "markdown",
   "id": "028308f1",
   "metadata": {
    "papermill": {
     "duration": 0.022123,
     "end_time": "2022-10-08T12:03:29.057103",
     "exception": false,
     "start_time": "2022-10-08T12:03:29.034980",
     "status": "completed"
    },
    "tags": []
   },
   "source": [
    "4. **Test a feature of OverallQual * OverallCond.**  \n",
    "    This ratio combines the information available in the quality and condition data fields. The price should be dependent on a combination of both factors and a high score in one can be worthless if the other is very low in value."
   ]
  },
  {
   "cell_type": "code",
   "execution_count": 20,
   "id": "d9993351",
   "metadata": {
    "execution": {
     "iopub.execute_input": "2022-10-08T12:03:29.104265Z",
     "iopub.status.busy": "2022-10-08T12:03:29.103230Z",
     "iopub.status.idle": "2022-10-08T12:03:32.167581Z",
     "shell.execute_reply": "2022-10-08T12:03:32.166591Z"
    },
    "papermill": {
     "duration": 3.091309,
     "end_time": "2022-10-08T12:03:32.170747",
     "exception": false,
     "start_time": "2022-10-08T12:03:29.079438",
     "status": "completed"
    },
    "tags": []
   },
   "outputs": [
    {
     "name": "stdout",
     "output_type": "stream",
     "text": [
      "Baseline score: 0.14351\n",
      "Score after mathematical transforms: 0.13770 RMSLE\n"
     ]
    }
   ],
   "source": [
    "X = df_train.copy()\n",
    "y = X.pop(\"SalePrice\")\n",
    "X[\"QualandCond\"] = X.OverallQual.cat.codes * X.OverallCond.cat.codes\n",
    "\n",
    "score = score_dataset(X, y)\n",
    "print(f\"Baseline score: {baseline_score:.5f}\")\n",
    "print(f\"Score after mathematical transforms: {score:.5f} RMSLE\")"
   ]
  },
  {
   "cell_type": "markdown",
   "id": "9c625972",
   "metadata": {
    "execution": {
     "iopub.execute_input": "2022-10-05T09:20:47.989668Z",
     "iopub.status.busy": "2022-10-05T09:20:47.989242Z",
     "iopub.status.idle": "2022-10-05T09:20:47.998695Z",
     "shell.execute_reply": "2022-10-05T09:20:47.996724Z",
     "shell.execute_reply.started": "2022-10-05T09:20:47.989617Z"
    },
    "papermill": {
     "duration": 0.023161,
     "end_time": "2022-10-08T12:03:32.217293",
     "exception": false,
     "start_time": "2022-10-08T12:03:32.194132",
     "status": "completed"
    },
    "tags": []
   },
   "source": [
    "5. **Test a feature of the ratio of above ground area to basement area.**  \n",
    "    Above ground living area should be more valued than basement area. Hence, a house with a larger proportion of above ground living area may be more desirable."
   ]
  },
  {
   "cell_type": "code",
   "execution_count": 21,
   "id": "a78b183c",
   "metadata": {
    "execution": {
     "iopub.execute_input": "2022-10-08T12:03:32.266012Z",
     "iopub.status.busy": "2022-10-08T12:03:32.265157Z",
     "iopub.status.idle": "2022-10-08T12:03:35.466923Z",
     "shell.execute_reply": "2022-10-08T12:03:35.465504Z"
    },
    "papermill": {
     "duration": 3.229014,
     "end_time": "2022-10-08T12:03:35.469803",
     "exception": false,
     "start_time": "2022-10-08T12:03:32.240789",
     "status": "completed"
    },
    "tags": []
   },
   "outputs": [
    {
     "name": "stdout",
     "output_type": "stream",
     "text": [
      "Baseline score: 0.14351\n",
      "Score after mathematical transforms: 0.14321 RMSLE\n"
     ]
    }
   ],
   "source": [
    "X = df_train.copy()\n",
    "y = X.pop(\"SalePrice\")\n",
    "X['LivBsmtRatio'] = df.GrLivArea / (df.GrLivArea + df.TotalBsmtSF)\n",
    "\n",
    "score = score_dataset(X, y)\n",
    "print(f\"Baseline score: {baseline_score:.5f}\")\n",
    "print(f\"Score after mathematical transforms: {score:.5f} RMSLE\")"
   ]
  },
  {
   "cell_type": "markdown",
   "id": "6a8ffc36",
   "metadata": {
    "papermill": {
     "duration": 0.023836,
     "end_time": "2022-10-08T12:03:35.517212",
     "exception": false,
     "start_time": "2022-10-08T12:03:35.493376",
     "status": "completed"
    },
    "tags": []
   },
   "source": [
    "**All mathematical transforms:**"
   ]
  },
  {
   "cell_type": "code",
   "execution_count": 22,
   "id": "04d66d33",
   "metadata": {
    "execution": {
     "iopub.execute_input": "2022-10-08T12:03:35.564811Z",
     "iopub.status.busy": "2022-10-08T12:03:35.563666Z",
     "iopub.status.idle": "2022-10-08T12:03:35.571578Z",
     "shell.execute_reply": "2022-10-08T12:03:35.570391Z"
    },
    "papermill": {
     "duration": 0.03418,
     "end_time": "2022-10-08T12:03:35.574101",
     "exception": false,
     "start_time": "2022-10-08T12:03:35.539921",
     "status": "completed"
    },
    "tags": []
   },
   "outputs": [],
   "source": [
    "def mathematical_transforms(df):\n",
    "    X = pd.DataFrame()  # dataframe to hold new features\n",
    "    X[\"LivLotRatio\"] = df.GrLivArea / df.LotArea\n",
    "    X[\"Spaciousness\"] = df.GrLivArea / df.TotRmsAbvGrd \n",
    "#     X[\"Spaciousness\"] = (df.FirstFlrSF + df.SecondFlrSF) / df.TotRmsAbvGrd\n",
    "    X[\"TotalOutsideSF\"] = \\\n",
    "        df.WoodDeckSF + df.OpenPorchSF + df.EnclosedPorch + \\\n",
    "        df.Threeseasonporch + df.ScreenPorch\n",
    "    X[\"QualandCond\"] = df.OverallQual.cat.codes * df.OverallCond.cat.codes\n",
    "    X['LivBsmtRatio'] = df.GrLivArea / (df.GrLivArea + df.TotalBsmtSF)\n",
    "    \n",
    "#     This features ended up not helping performance\n",
    "#     X[\"FrontageLotRatio\"] = df.LotFrontage / df.LotArea\n",
    "    return X"
   ]
  },
  {
   "cell_type": "code",
   "execution_count": 23,
   "id": "55f488eb",
   "metadata": {
    "execution": {
     "iopub.execute_input": "2022-10-08T12:03:35.621554Z",
     "iopub.status.busy": "2022-10-08T12:03:35.621081Z",
     "iopub.status.idle": "2022-10-08T12:03:39.014547Z",
     "shell.execute_reply": "2022-10-08T12:03:39.013014Z"
    },
    "papermill": {
     "duration": 3.420966,
     "end_time": "2022-10-08T12:03:39.017799",
     "exception": false,
     "start_time": "2022-10-08T12:03:35.596833",
     "status": "completed"
    },
    "tags": []
   },
   "outputs": [
    {
     "name": "stdout",
     "output_type": "stream",
     "text": [
      "Baseline score: 0.14351\n",
      "Score after mathematical transforms: 0.13764 RMSLE\n"
     ]
    }
   ],
   "source": [
    "# Check effectiveness\n",
    "X = df_train.copy()\n",
    "y = X.pop(\"SalePrice\")\n",
    "X = X.join(mathematical_transforms(X))\n",
    "\n",
    "score = score_dataset(X, y)\n",
    "print(f\"Baseline score: {baseline_score:.5f}\")\n",
    "print(f\"Score after mathematical transforms: {score:.5f} RMSLE\")"
   ]
  },
  {
   "cell_type": "markdown",
   "id": "10f59a82",
   "metadata": {
    "papermill": {
     "duration": 0.022483,
     "end_time": "2022-10-08T12:03:39.063908",
     "exception": false,
     "start_time": "2022-10-08T12:03:39.041425",
     "status": "completed"
    },
    "tags": []
   },
   "source": [
    "### Interaction Features\n",
    "Some features may seem unimportant on their own, but have strong interaction effects with another feature that can increase it's predictive power. Usually these can be identified by domain knowledge of the problem. For example, here we can identify categorical and numerical features that describe the same thing and study their interaction.\n",
    "\n",
    "We will try `BsmtQual` and `TotalBsmtSF`."
   ]
  },
  {
   "cell_type": "code",
   "execution_count": 24,
   "id": "48d62510",
   "metadata": {
    "execution": {
     "iopub.execute_input": "2022-10-08T12:03:39.111408Z",
     "iopub.status.busy": "2022-10-08T12:03:39.110879Z",
     "iopub.status.idle": "2022-10-08T12:03:40.385640Z",
     "shell.execute_reply": "2022-10-08T12:03:40.384227Z"
    },
    "papermill": {
     "duration": 1.301661,
     "end_time": "2022-10-08T12:03:40.388469",
     "exception": false,
     "start_time": "2022-10-08T12:03:39.086808",
     "status": "completed"
    },
    "tags": []
   },
   "outputs": [
    {
     "data": {
      "image/png": "[encoded data removed]",
      "text/plain": [
       "<Figure size 1152x288 with 4 Axes>"
      ]
     },
     "metadata": {},
     "output_type": "display_data"
    }
   ],
   "source": [
    "sns.lmplot(x = \"TotalBsmtSF\", y=\"SalePrice\", hue=\"BsmtQual\", col=\"BsmtQual\", col_wrap=4, height=4, data = df)\n",
    "plt.show()"
   ]
  },
  {
   "cell_type": "code",
   "execution_count": 25,
   "id": "d2aede5a",
   "metadata": {
    "execution": {
     "iopub.execute_input": "2022-10-08T12:03:40.438467Z",
     "iopub.status.busy": "2022-10-08T12:03:40.438025Z",
     "iopub.status.idle": "2022-10-08T12:03:43.607079Z",
     "shell.execute_reply": "2022-10-08T12:03:43.605873Z"
    },
    "papermill": {
     "duration": 3.196684,
     "end_time": "2022-10-08T12:03:43.609734",
     "exception": false,
     "start_time": "2022-10-08T12:03:40.413050",
     "status": "completed"
    },
    "tags": []
   },
   "outputs": [
    {
     "name": "stdout",
     "output_type": "stream",
     "text": [
      "Baseline score: 0.14351\n",
      "Score after adding interaction features: 0.14205 RMSLE\n"
     ]
    }
   ],
   "source": [
    "def interactions(df):\n",
    "    X = pd.get_dummies(df.BsmtQual, prefix=\"Bldg\")\n",
    "    X = X.mul(df.TotalBsmtSF, axis=0)\n",
    "    return X\n",
    "\n",
    "# Check effectiveness\n",
    "X = df_train.copy()\n",
    "y = X.pop(\"SalePrice\")\n",
    "X = X.join(interactions(X))\n",
    "\n",
    "score = score_dataset(X, y)\n",
    "print(f\"Baseline score: {baseline_score:.5f}\")\n",
    "print(f\"Score after adding interaction features: {score:.5f} RMSLE\")"
   ]
  },
  {
   "cell_type": "markdown",
   "id": "1b82baa5",
   "metadata": {
    "papermill": {
     "duration": 0.023125,
     "end_time": "2022-10-08T12:03:43.656327",
     "exception": false,
     "start_time": "2022-10-08T12:03:43.633202",
     "status": "completed"
    },
    "tags": []
   },
   "source": [
    "### Counts\n",
    "The total number of outdoor areas available for a house should have an effect on the sale price:"
   ]
  },
  {
   "cell_type": "code",
   "execution_count": 26,
   "id": "fdb89b45",
   "metadata": {
    "execution": {
     "iopub.execute_input": "2022-10-08T12:03:43.705417Z",
     "iopub.status.busy": "2022-10-08T12:03:43.704929Z",
     "iopub.status.idle": "2022-10-08T12:03:46.783117Z",
     "shell.execute_reply": "2022-10-08T12:03:46.782016Z"
    },
    "papermill": {
     "duration": 3.106492,
     "end_time": "2022-10-08T12:03:46.786214",
     "exception": false,
     "start_time": "2022-10-08T12:03:43.679722",
     "status": "completed"
    },
    "tags": []
   },
   "outputs": [
    {
     "name": "stdout",
     "output_type": "stream",
     "text": [
      "Baseline score: 0.14351\n",
      "Score after adding counts: 0.14215 RMSLE\n"
     ]
    }
   ],
   "source": [
    "def counts(df):\n",
    "    X = pd.DataFrame()\n",
    "    X[\"PorchTypes\"] = df[[\n",
    "        \"WoodDeckSF\",\n",
    "        \"OpenPorchSF\",\n",
    "        \"EnclosedPorch\",\n",
    "        \"Threeseasonporch\",\n",
    "        \"ScreenPorch\",\n",
    "    ]].gt(0.0).sum(axis=1)\n",
    "    return X\n",
    "\n",
    "# Check effectiveness\n",
    "X = df_train.copy()\n",
    "y = X.pop(\"SalePrice\")\n",
    "X = X.join(counts(X))\n",
    "\n",
    "score = score_dataset(X, y)\n",
    "print(f\"Baseline score: {baseline_score:.5f}\")\n",
    "print(f\"Score after adding counts: {score:.5f} RMSLE\")"
   ]
  },
  {
   "cell_type": "markdown",
   "id": "0dcb483a",
   "metadata": {
    "papermill": {
     "duration": 0.023362,
     "end_time": "2022-10-08T12:03:46.833312",
     "exception": false,
     "start_time": "2022-10-08T12:03:46.809950",
     "status": "completed"
    },
    "tags": []
   },
   "source": [
    "### Group Transforms\n",
    "Group transforms aggregate information across multiple rows in a category. Here we will look at the median `GrLivArea` in each `Neighbourhood`."
   ]
  },
  {
   "cell_type": "code",
   "execution_count": 27,
   "id": "a1428614",
   "metadata": {
    "_kg_hide-input": true,
    "execution": {
     "iopub.execute_input": "2022-10-08T12:03:46.882295Z",
     "iopub.status.busy": "2022-10-08T12:03:46.881836Z",
     "iopub.status.idle": "2022-10-08T12:03:50.048340Z",
     "shell.execute_reply": "2022-10-08T12:03:50.046929Z"
    },
    "papermill": {
     "duration": 3.194277,
     "end_time": "2022-10-08T12:03:50.051079",
     "exception": false,
     "start_time": "2022-10-08T12:03:46.856802",
     "status": "completed"
    },
    "tags": []
   },
   "outputs": [
    {
     "name": "stdout",
     "output_type": "stream",
     "text": [
      "Baseline score: 0.14351\n",
      "Score after adding group transforms: 0.13902 RMSLE\n"
     ]
    }
   ],
   "source": [
    "def group_transforms(df):\n",
    "    X = pd.DataFrame()\n",
    "    X[\"MedNhbdArea\"] = df.groupby(\"Neighborhood\")[\"GrLivArea\"].transform(\"median\")\n",
    "    return X\n",
    "\n",
    "# Check effectiveness\n",
    "X = df_train.copy()\n",
    "y = X.pop(\"SalePrice\")\n",
    "X = X.join(group_transforms(X))\n",
    "\n",
    "score = score_dataset(X, y)\n",
    "print(f\"Baseline score: {baseline_score:.5f}\")\n",
    "print(f\"Score after adding group transforms: {score:.5f} RMSLE\")"
   ]
  },
  {
   "cell_type": "markdown",
   "id": "2ec4c3c8",
   "metadata": {
    "papermill": {
     "duration": 0.023282,
     "end_time": "2022-10-08T12:03:50.098325",
     "exception": false,
     "start_time": "2022-10-08T12:03:50.075043",
     "status": "completed"
    },
    "tags": []
   },
   "source": [
    "Here are some ideas for other transforms we could explore:\n",
    "- Square roots of area features. This would convert units of square feet to just feet.\n",
    "- Logarithms of numeric features. If a feature has a skewed distribution, applying a logarithm can help normalize it.\n",
    "- Other group statistics in `Neighboorhood`. We did the median of `GrLivArea`. Looking at `mean`, `std`, or `count` could be interesting. You could also try combining the group statistics with other features. Maybe the *difference* of `GrLivArea` and the median is important?\n",
    "\n",
    "## k-Means Clustering ##\n",
    "\n",
    "We can use the unsupervised algorithm, k-means clustering, to create new features. We can either use the cluster labels as a feature (a column with `0, 1, 2, ...`) or we can use the *distance* of the observations to each cluster. These features can sometimes be effective at untangling complicated spatial relationships.\n",
    "\n",
    "We will look at a few features related to the area characteristics of the house."
   ]
  },
  {
   "cell_type": "code",
   "execution_count": 28,
   "id": "8d1630e8",
   "metadata": {
    "_kg_hide-input": true,
    "execution": {
     "iopub.execute_input": "2022-10-08T12:03:50.148556Z",
     "iopub.status.busy": "2022-10-08T12:03:50.148087Z",
     "iopub.status.idle": "2022-10-08T12:04:01.193668Z",
     "shell.execute_reply": "2022-10-08T12:04:01.192289Z"
    },
    "lines_to_next_cell": 2,
    "papermill": {
     "duration": 11.073919,
     "end_time": "2022-10-08T12:04:01.197062",
     "exception": false,
     "start_time": "2022-10-08T12:03:50.123143",
     "status": "completed"
    },
    "tags": []
   },
   "outputs": [
    {
     "name": "stdout",
     "output_type": "stream",
     "text": [
      "Baseline score: 0.14351\n",
      "Score after adding cluster labels: 0.14537 RMSLE\n",
      "Score after adding cluster distances: 0.14781 RMSLE\n"
     ]
    }
   ],
   "source": [
    "cluster_features = [\n",
    "    \"LotArea\",\n",
    "    \"TotalBsmtSF\",\n",
    "    \"FirstFlrSF\",\n",
    "    \"SecondFlrSF\",\n",
    "    \"GrLivArea\",\n",
    "]\n",
    "\n",
    "\n",
    "def cluster_labels(df, features, n_clusters=20):\n",
    "    X = df.copy()\n",
    "    X_scaled = X.loc[:, features]\n",
    "    X_scaled = (X_scaled - X_scaled.mean(axis=0)) / X_scaled.std(axis=0)\n",
    "    kmeans = KMeans(n_clusters=n_clusters, n_init=50, random_state=0)\n",
    "    X_new = pd.DataFrame()\n",
    "    X_new[\"Cluster\"] = kmeans.fit_predict(X_scaled)\n",
    "    return X_new\n",
    "\n",
    "\n",
    "def cluster_distance(df, features, n_clusters=20):\n",
    "    X = df.copy()\n",
    "    X_scaled = X.loc[:, features]\n",
    "    X_scaled = (X_scaled - X_scaled.mean(axis=0)) / X_scaled.std(axis=0)\n",
    "    kmeans = KMeans(n_clusters=20, n_init=50, random_state=0)\n",
    "    X_cd = kmeans.fit_transform(X_scaled)\n",
    "    # Label features and join to dataset\n",
    "    X_cd = pd.DataFrame(\n",
    "        X_cd, columns=[f\"Centroid_{i}\" for i in range(X_cd.shape[1])]\n",
    "    )\n",
    "    return X_cd\n",
    "\n",
    "# Check effectiveness\n",
    "X = df_train.copy()\n",
    "y = X.pop(\"SalePrice\")\n",
    "X_cl = X.join(cluster_labels(X, cluster_features))\n",
    "X_cd = X.join(cluster_distance(X, cluster_features))\n",
    "\n",
    "score_cl = score_dataset(X_cl, y)\n",
    "score_cd = score_dataset(X_cd, y)\n",
    "print(f\"Baseline score: {baseline_score:.5f}\")\n",
    "print(f\"Score after adding cluster labels: {score_cl:.5f} RMSLE\")\n",
    "print(f\"Score after adding cluster distances: {score_cd:.5f} RMSLE\")"
   ]
  },
  {
   "cell_type": "markdown",
   "id": "bb448d54",
   "metadata": {
    "papermill": {
     "duration": 0.024276,
     "end_time": "2022-10-08T12:04:01.246018",
     "exception": false,
     "start_time": "2022-10-08T12:04:01.221742",
     "status": "completed"
    },
    "tags": []
   },
   "source": [
    "## Principal Component Analysis ##\n",
    "\n",
    "PCA is another unsupervised model we can use for feature creation. It can be used to decompose the variational structure in the data. The PCA algorithm gave us *loadings* which described each component of variation, and also the *components* which were the transformed datapoints. The loadings can suggest features to create and the components we can use as features directly.\n",
    "\n",
    "Here are some utility functions for PCA:"
   ]
  },
  {
   "cell_type": "code",
   "execution_count": 29,
   "id": "9b58cb52",
   "metadata": {
    "_kg_hide-input": true,
    "execution": {
     "iopub.execute_input": "2022-10-08T12:04:01.295886Z",
     "iopub.status.busy": "2022-10-08T12:04:01.295454Z",
     "iopub.status.idle": "2022-10-08T12:04:01.307397Z",
     "shell.execute_reply": "2022-10-08T12:04:01.306336Z"
    },
    "papermill": {
     "duration": 0.040095,
     "end_time": "2022-10-08T12:04:01.310038",
     "exception": false,
     "start_time": "2022-10-08T12:04:01.269943",
     "status": "completed"
    },
    "tags": []
   },
   "outputs": [],
   "source": [
    "def apply_pca(X, standardize=True):\n",
    "    # Standardize\n",
    "    if standardize:\n",
    "        X = (X - X.mean(axis=0)) / X.std(axis=0)\n",
    "    # Create principal components\n",
    "    pca = PCA()\n",
    "    X_pca = pca.fit_transform(X)\n",
    "    # Convert to dataframe\n",
    "    component_names = [f\"PC{i+1}\" for i in range(X_pca.shape[1])]\n",
    "    X_pca = pd.DataFrame(X_pca, columns=component_names)\n",
    "    # Create loadings\n",
    "    loadings = pd.DataFrame(\n",
    "        pca.components_.T,  # transpose the matrix of loadings\n",
    "        columns=component_names,  # so the columns are the principal components\n",
    "        index=X.columns,  # and the rows are the original features\n",
    "    )\n",
    "    return pca, X_pca, loadings\n",
    "\n",
    "\n",
    "def plot_variance(pca, width=8, dpi=100):\n",
    "    # Create figure\n",
    "    fig, axs = plt.subplots(1, 2)\n",
    "    n = pca.n_components_\n",
    "    grid = np.arange(1, n + 1)\n",
    "    # Explained variance\n",
    "    evr = pca.explained_variance_ratio_\n",
    "    axs[0].bar(grid, evr)\n",
    "    axs[0].set(\n",
    "        xlabel=\"Component\", title=\"% Explained Variance\", ylim=(0.0, 1.0)\n",
    "    )\n",
    "    # Cumulative Variance\n",
    "    cv = np.cumsum(evr)\n",
    "    axs[1].plot(np.r_[0, grid], np.r_[0, cv], \"o-\")\n",
    "    axs[1].set(\n",
    "        xlabel=\"Component\", title=\"% Cumulative Variance\", ylim=(0.0, 1.0)\n",
    "    )\n",
    "    # Set up figure\n",
    "    fig.set(figwidth=8, dpi=100)\n",
    "    return axs\n"
   ]
  },
  {
   "cell_type": "markdown",
   "id": "7736c454",
   "metadata": {
    "papermill": {
     "duration": 0.024139,
     "end_time": "2022-10-08T12:04:01.357995",
     "exception": false,
     "start_time": "2022-10-08T12:04:01.333856",
     "status": "completed"
    },
    "tags": []
   },
   "source": [
    "Choosing a few highly correlated numeric features to sale price:"
   ]
  },
  {
   "cell_type": "code",
   "execution_count": 30,
   "id": "e6834a1a",
   "metadata": {
    "execution": {
     "iopub.execute_input": "2022-10-08T12:04:01.409299Z",
     "iopub.status.busy": "2022-10-08T12:04:01.408054Z",
     "iopub.status.idle": "2022-10-08T12:04:01.437668Z",
     "shell.execute_reply": "2022-10-08T12:04:01.436272Z"
    },
    "papermill": {
     "duration": 0.058449,
     "end_time": "2022-10-08T12:04:01.440293",
     "exception": false,
     "start_time": "2022-10-08T12:04:01.381844",
     "status": "completed"
    },
    "scrolled": true,
    "tags": []
   },
   "outputs": [
    {
     "data": {
      "text/plain": [
       "GrLivArea        0.708624\n",
       "GarageCars       0.640409\n",
       "GarageArea       0.623431\n",
       "TotalBsmtSF      0.613581\n",
       "FirstFlrSF       0.605852\n",
       "                   ...   \n",
       "MiscVal         -0.021190\n",
       "LowQualFinSF    -0.025606\n",
       "YrSold          -0.028923\n",
       "EnclosedPorch   -0.128578\n",
       "KitchenAbvGr    -0.135907\n",
       "Length: 33, dtype: float64"
      ]
     },
     "execution_count": 30,
     "metadata": {},
     "output_type": "execute_result"
    }
   ],
   "source": [
    "X = df_train.copy()\n",
    "y = X.pop(\"SalePrice\")\n",
    "\n",
    "numerics = X.loc[:,[col for col in X if pd.api.types.is_numeric_dtype(X[col])]]\n",
    "numerics.corrwith(y).sort_values(ascending=False)"
   ]
  },
  {
   "cell_type": "markdown",
   "id": "8946b640",
   "metadata": {
    "papermill": {
     "duration": 0.023456,
     "end_time": "2022-10-08T12:04:01.487869",
     "exception": false,
     "start_time": "2022-10-08T12:04:01.464413",
     "status": "completed"
    },
    "tags": []
   },
   "source": [
    "We obtain the principal components:"
   ]
  },
  {
   "cell_type": "code",
   "execution_count": 31,
   "id": "ddae971d",
   "metadata": {
    "execution": {
     "iopub.execute_input": "2022-10-08T12:04:01.538148Z",
     "iopub.status.busy": "2022-10-08T12:04:01.537362Z",
     "iopub.status.idle": "2022-10-08T12:04:01.578613Z",
     "shell.execute_reply": "2022-10-08T12:04:01.577326Z"
    },
    "papermill": {
     "duration": 0.069508,
     "end_time": "2022-10-08T12:04:01.581228",
     "exception": false,
     "start_time": "2022-10-08T12:04:01.511720",
     "status": "completed"
    },
    "tags": []
   },
   "outputs": [
    {
     "data": {
      "text/html": [
       "<div>\n",
       "<style scoped>\n",
       "    .dataframe tbody tr th:only-of-type {\n",
       "        vertical-align: middle;\n",
       "    }\n",
       "\n",
       "    .dataframe tbody tr th {\n",
       "        vertical-align: top;\n",
       "    }\n",
       "\n",
       "    .dataframe thead th {\n",
       "        text-align: right;\n",
       "    }\n",
       "</style>\n",
       "<table border=\"1\" class=\"dataframe\">\n",
       "  <thead>\n",
       "    <tr style=\"text-align: right;\">\n",
       "      <th></th>\n",
       "      <th>PC1</th>\n",
       "      <th>PC2</th>\n",
       "      <th>PC3</th>\n",
       "      <th>PC4</th>\n",
       "    </tr>\n",
       "  </thead>\n",
       "  <tbody>\n",
       "    <tr>\n",
       "      <th>GrLivArea</th>\n",
       "      <td>0.511558</td>\n",
       "      <td>0.334709</td>\n",
       "      <td>-0.765680</td>\n",
       "      <td>0.200032</td>\n",
       "    </tr>\n",
       "    <tr>\n",
       "      <th>GarageArea</th>\n",
       "      <td>0.542671</td>\n",
       "      <td>0.055849</td>\n",
       "      <td>0.172729</td>\n",
       "      <td>-0.820094</td>\n",
       "    </tr>\n",
       "    <tr>\n",
       "      <th>TotalBsmtSF</th>\n",
       "      <td>0.518308</td>\n",
       "      <td>0.324224</td>\n",
       "      <td>0.617357</td>\n",
       "      <td>0.495082</td>\n",
       "    </tr>\n",
       "    <tr>\n",
       "      <th>YearRemodAdd</th>\n",
       "      <td>0.418537</td>\n",
       "      <td>-0.883023</td>\n",
       "      <td>-0.052628</td>\n",
       "      <td>0.205735</td>\n",
       "    </tr>\n",
       "  </tbody>\n",
       "</table>\n",
       "</div>"
      ],
      "text/plain": [
       "                   PC1       PC2       PC3       PC4\n",
       "GrLivArea     0.511558  0.334709 -0.765680  0.200032\n",
       "GarageArea    0.542671  0.055849  0.172729 -0.820094\n",
       "TotalBsmtSF   0.518308  0.324224  0.617357  0.495082\n",
       "YearRemodAdd  0.418537 -0.883023 -0.052628  0.205735"
      ]
     },
     "execution_count": 31,
     "metadata": {},
     "output_type": "execute_result"
    }
   ],
   "source": [
    "X = df_train.copy()\n",
    "y = X.pop(\"SalePrice\")\n",
    "components = [\"GrLivArea\", \"GarageArea\", \"TotalBsmtSF\", \"YearRemodAdd\"]\n",
    "\n",
    "pca, X_pca, loadings = apply_pca(X[components])\n",
    "X_pca.index = X_pca.index + 1 #to match df_train index\n",
    "loadings"
   ]
  },
  {
   "cell_type": "code",
   "execution_count": 32,
   "id": "badf443c",
   "metadata": {
    "execution": {
     "iopub.execute_input": "2022-10-08T12:04:01.633733Z",
     "iopub.status.busy": "2022-10-08T12:04:01.631128Z",
     "iopub.status.idle": "2022-10-08T12:04:02.024609Z",
     "shell.execute_reply": "2022-10-08T12:04:02.023665Z"
    },
    "papermill": {
     "duration": 0.421633,
     "end_time": "2022-10-08T12:04:02.027204",
     "exception": false,
     "start_time": "2022-10-08T12:04:01.605571",
     "status": "completed"
    },
    "tags": []
   },
   "outputs": [
    {
     "data": {
      "text/plain": [
       "array([<AxesSubplot:title={'center':'% Explained Variance'}, xlabel='Component'>,\n",
       "       <AxesSubplot:title={'center':'% Cumulative Variance'}, xlabel='Component'>],\n",
       "      dtype=object)"
      ]
     },
     "execution_count": 32,
     "metadata": {},
     "output_type": "execute_result"
    },
    {
     "data": {
      "image/png": "[encoded data removed]",
      "text/plain": [
       "<Figure size 800x400 with 2 Axes>"
      ]
     },
     "metadata": {},
     "output_type": "display_data"
    }
   ],
   "source": [
    "plot_variance(pca)"
   ]
  },
  {
   "cell_type": "markdown",
   "id": "4495c53d",
   "metadata": {
    "papermill": {
     "duration": 0.024497,
     "end_time": "2022-10-08T12:04:02.077432",
     "exception": false,
     "start_time": "2022-10-08T12:04:02.052935",
     "status": "completed"
    },
    "tags": []
   },
   "source": [
    "Examining the loadings table, see that PC1 gives roughly equal importance to the various features and indicates the importance of overall area and a house being recently remodelled or built. The explained variance for PC1 is also high. We can test out this feature by adding up the areas:"
   ]
  },
  {
   "cell_type": "code",
   "execution_count": 33,
   "id": "66be2624",
   "metadata": {
    "execution": {
     "iopub.execute_input": "2022-10-08T12:04:02.129668Z",
     "iopub.status.busy": "2022-10-08T12:04:02.128347Z",
     "iopub.status.idle": "2022-10-08T12:04:05.379196Z",
     "shell.execute_reply": "2022-10-08T12:04:05.377523Z"
    },
    "papermill": {
     "duration": 3.279949,
     "end_time": "2022-10-08T12:04:05.382140",
     "exception": false,
     "start_time": "2022-10-08T12:04:02.102191",
     "status": "completed"
    },
    "tags": []
   },
   "outputs": [
    {
     "name": "stdout",
     "output_type": "stream",
     "text": [
      "Baseline score: 0.14351\n",
      "Score after adding area feature: 0.14043 RMSLE\n"
     ]
    }
   ],
   "source": [
    "X = df_train.copy()\n",
    "y = X.pop(\"SalePrice\")\n",
    "X[\"Feature1\"] = X.GrLivArea + X.TotalBsmtSF + X.GarageArea\n",
    "\n",
    "score = score_dataset(X, y)\n",
    "print(f\"Baseline score: {baseline_score:.5f}\")\n",
    "print(f\"Score after adding area feature: {score:.5f} RMSLE\")"
   ]
  },
  {
   "cell_type": "markdown",
   "id": "dcc7bb00",
   "metadata": {
    "papermill": {
     "duration": 0.024432,
     "end_time": "2022-10-08T12:04:05.431725",
     "exception": false,
     "start_time": "2022-10-08T12:04:05.407293",
     "status": "completed"
    },
    "tags": []
   },
   "source": [
    "Are people more concerned about living space vs garage area? The next cell tells us that this may be the case."
   ]
  },
  {
   "cell_type": "code",
   "execution_count": 34,
   "id": "5f167f08",
   "metadata": {
    "execution": {
     "iopub.execute_input": "2022-10-08T12:04:05.484866Z",
     "iopub.status.busy": "2022-10-08T12:04:05.484400Z",
     "iopub.status.idle": "2022-10-08T12:04:08.671593Z",
     "shell.execute_reply": "2022-10-08T12:04:08.670025Z"
    },
    "papermill": {
     "duration": 3.21695,
     "end_time": "2022-10-08T12:04:08.674724",
     "exception": false,
     "start_time": "2022-10-08T12:04:05.457774",
     "status": "completed"
    },
    "tags": []
   },
   "outputs": [
    {
     "name": "stdout",
     "output_type": "stream",
     "text": [
      "Baseline score: 0.14351\n",
      "Score after adding area feature: 0.13939 RMSLE\n"
     ]
    }
   ],
   "source": [
    "X = df_train.copy()\n",
    "y = X.pop(\"SalePrice\")\n",
    "X[\"Feature1\"] = X.GrLivArea + X.TotalBsmtSF\n",
    "\n",
    "score = score_dataset(X, y)\n",
    "print(f\"Baseline score: {baseline_score:.5f}\")\n",
    "print(f\"Score after adding area feature: {score:.5f} RMSLE\")"
   ]
  },
  {
   "cell_type": "markdown",
   "id": "4ca733d6",
   "metadata": {
    "papermill": {
     "duration": 0.024403,
     "end_time": "2022-10-08T12:04:08.724668",
     "exception": false,
     "start_time": "2022-10-08T12:04:08.700265",
     "status": "completed"
    },
    "tags": []
   },
   "source": [
    "Looking at PC2, we see that sale price is positively correlated to `GrLivArea` and `TotalBsmtSF` but negatively correlated to `YearRemodAdd`. This tells us that larger houses and newer houses cost more. We can capture this using the feature below:"
   ]
  },
  {
   "cell_type": "code",
   "execution_count": 35,
   "id": "fb5e20d5",
   "metadata": {
    "execution": {
     "iopub.execute_input": "2022-10-08T12:04:08.776571Z",
     "iopub.status.busy": "2022-10-08T12:04:08.775783Z",
     "iopub.status.idle": "2022-10-08T12:04:12.065393Z",
     "shell.execute_reply": "2022-10-08T12:04:12.064096Z"
    },
    "papermill": {
     "duration": 3.318386,
     "end_time": "2022-10-08T12:04:12.068228",
     "exception": false,
     "start_time": "2022-10-08T12:04:08.749842",
     "status": "completed"
    },
    "tags": []
   },
   "outputs": [
    {
     "name": "stdout",
     "output_type": "stream",
     "text": [
      "Baseline score: 0.14351\n",
      "Score after adding area feature: 0.13472 RMSLE\n"
     ]
    }
   ],
   "source": [
    "X = df_train.copy()\n",
    "y = X.pop(\"SalePrice\")\n",
    "X[\"Feature1\"] = (X.GrLivArea + X.TotalBsmtSF) * X.YearRemodAdd\n",
    "\n",
    "score = score_dataset(X, y)\n",
    "print(f\"Baseline score: {baseline_score:.5f}\")\n",
    "print(f\"Score after adding area feature: {score:.5f} RMSLE\")"
   ]
  },
  {
   "cell_type": "markdown",
   "id": "d81fd780",
   "metadata": {
    "papermill": {
     "duration": 0.024377,
     "end_time": "2022-10-08T12:04:12.117352",
     "exception": false,
     "start_time": "2022-10-08T12:04:12.092975",
     "status": "completed"
    },
    "tags": []
   },
   "source": [
    "Alternatively, we can simply add the PCA component to the dataframe instead of creating features. After testing, it was better to just add PC1 rather than the whole list of components"
   ]
  },
  {
   "cell_type": "code",
   "execution_count": 36,
   "id": "db2400cd",
   "metadata": {
    "execution": {
     "iopub.execute_input": "2022-10-08T12:04:12.169699Z",
     "iopub.status.busy": "2022-10-08T12:04:12.168961Z",
     "iopub.status.idle": "2022-10-08T12:04:15.394480Z",
     "shell.execute_reply": "2022-10-08T12:04:15.393157Z"
    },
    "papermill": {
     "duration": 3.254654,
     "end_time": "2022-10-08T12:04:15.397157",
     "exception": false,
     "start_time": "2022-10-08T12:04:12.142503",
     "status": "completed"
    },
    "tags": []
   },
   "outputs": [
    {
     "name": "stdout",
     "output_type": "stream",
     "text": [
      "Baseline score: 0.14351\n",
      "Score after adding principle component: 0.13538 RMSLE\n"
     ]
    }
   ],
   "source": [
    "X = df_train.copy()\n",
    "y = X.pop(\"SalePrice\")\n",
    "X = X.join(X_pca[[\"PC1\"]])\n",
    "\n",
    "score = score_dataset(X, y)\n",
    "print(f\"Baseline score: {baseline_score:.5f}\")\n",
    "print(f\"Score after adding principle component: {score:.5f} RMSLE\")"
   ]
  },
  {
   "cell_type": "markdown",
   "id": "8109755a",
   "metadata": {
    "papermill": {
     "duration": 0.025563,
     "end_time": "2022-10-08T12:04:15.448869",
     "exception": false,
     "start_time": "2022-10-08T12:04:15.423306",
     "status": "completed"
    },
    "tags": []
   },
   "source": [
    "**All PCA transforms**\n"
   ]
  },
  {
   "cell_type": "code",
   "execution_count": 37,
   "id": "ec5944dd",
   "metadata": {
    "_kg_hide-input": true,
    "execution": {
     "iopub.execute_input": "2022-10-08T12:04:15.501188Z",
     "iopub.status.busy": "2022-10-08T12:04:15.500521Z",
     "iopub.status.idle": "2022-10-08T12:04:15.508624Z",
     "shell.execute_reply": "2022-10-08T12:04:15.507560Z"
    },
    "papermill": {
     "duration": 0.037055,
     "end_time": "2022-10-08T12:04:15.511058",
     "exception": false,
     "start_time": "2022-10-08T12:04:15.474003",
     "status": "completed"
    },
    "tags": []
   },
   "outputs": [],
   "source": [
    "def pca_inspired(df):\n",
    "    X = pd.DataFrame()\n",
    "#     X[\"Feature1\"] = df.GrLivArea + df.TotalBsmtSF\n",
    "    X[\"Feature2\"] = (df.GrLivArea + df.TotalBsmtSF) * df.YearRemodAdd\n",
    "    return X\n",
    "\n",
    "\n",
    "def pca_components(df, features):\n",
    "    X = df.loc[:, features]\n",
    "    _, X_pca, _ = apply_pca(X)\n",
    "    X_pca.index = X_pca.index + 1 #to match df_train index\n",
    "    return X_pca[[\"PC1\"]]\n",
    "\n",
    "\n",
    "pca_features = [\"GrLivArea\", \"GarageArea\", \"TotalBsmtSF\", \"YearRemodAdd\"]"
   ]
  },
  {
   "cell_type": "code",
   "execution_count": 38,
   "id": "7b8b0519",
   "metadata": {
    "execution": {
     "iopub.execute_input": "2022-10-08T12:04:15.564038Z",
     "iopub.status.busy": "2022-10-08T12:04:15.562972Z",
     "iopub.status.idle": "2022-10-08T12:04:18.786418Z",
     "shell.execute_reply": "2022-10-08T12:04:18.785393Z"
    },
    "papermill": {
     "duration": 3.252736,
     "end_time": "2022-10-08T12:04:18.789729",
     "exception": false,
     "start_time": "2022-10-08T12:04:15.536993",
     "status": "completed"
    },
    "tags": []
   },
   "outputs": [
    {
     "name": "stdout",
     "output_type": "stream",
     "text": [
      "Baseline score: 0.14351\n",
      "Score after adding pca inspired: 0.13472 RMSLE\n"
     ]
    }
   ],
   "source": [
    "# Check effectiveness\n",
    "X = df_train.copy()\n",
    "y = X.pop(\"SalePrice\")\n",
    "X = X.join(pca_inspired(X))\n",
    "# X = X.join(pca_components(X, pca_features))\n",
    "\n",
    "score = score_dataset(X, y)\n",
    "print(f\"Baseline score: {baseline_score:.5f}\")\n",
    "print(f\"Score after adding pca inspired: {score:.5f} RMSLE\")"
   ]
  },
  {
   "cell_type": "markdown",
   "id": "ff5b1742",
   "metadata": {
    "papermill": {
     "duration": 0.024525,
     "end_time": "2022-10-08T12:04:18.839834",
     "exception": false,
     "start_time": "2022-10-08T12:04:18.815309",
     "status": "completed"
    },
    "tags": []
   },
   "source": [
    "These are only a couple ways you could use the principal components. You could also try clustering using one or more components. One thing to note is that PCA doesn't change the distance between points -- it's just like a rotation. So clustering with the full set of components is the same as clustering with the original features. Instead, pick some subset of components, maybe those with the most variance or the highest MI scores.\n",
    "\n",
    "For further analysis, we could look at a correlation matrix for the dataset."
   ]
  },
  {
   "cell_type": "code",
   "execution_count": 39,
   "id": "ddd4c2a9",
   "metadata": {
    "_kg_hide-input": true,
    "execution": {
     "iopub.execute_input": "2022-10-08T12:04:18.892579Z",
     "iopub.status.busy": "2022-10-08T12:04:18.891364Z",
     "iopub.status.idle": "2022-10-08T12:04:20.455345Z",
     "shell.execute_reply": "2022-10-08T12:04:20.453980Z"
    },
    "papermill": {
     "duration": 1.593809,
     "end_time": "2022-10-08T12:04:20.458970",
     "exception": false,
     "start_time": "2022-10-08T12:04:18.865161",
     "status": "completed"
    },
    "tags": []
   },
   "outputs": [
    {
     "data": {
      "image/png": "[encoded data removed]",
      "text/plain": [
       "<Figure size 720x720 with 4 Axes>"
      ]
     },
     "metadata": {},
     "output_type": "display_data"
    }
   ],
   "source": [
    "def corrplot(df, method=\"pearson\", annot=True, **kwargs):\n",
    "    sns.clustermap(\n",
    "        df.corr(method),\n",
    "        vmin=-1.0,\n",
    "        vmax=1.0,\n",
    "        cmap=\"icefire\",\n",
    "        method=\"complete\",\n",
    "        annot=annot,\n",
    "        **kwargs,\n",
    "    )\n",
    "\n",
    "\n",
    "corrplot(df_train, annot=None)"
   ]
  },
  {
   "cell_type": "markdown",
   "id": "89b83f91",
   "metadata": {
    "papermill": {
     "duration": 0.029032,
     "end_time": "2022-10-08T12:04:20.515832",
     "exception": false,
     "start_time": "2022-10-08T12:04:20.486800",
     "status": "completed"
    },
    "tags": []
   },
   "source": [
    "Groups of highly correlated features often yield interesting loadings.\n",
    "\n",
    "### PCA Application - Indicate Outliers ###\n",
    "\n",
    "PCA can also be used to determine houses that were **outliers**. Plotting the principal components and looking through the data sorted by PC values, we see that there are a group of houses in the `Edwards` neighborhood having a `SaleCondition` of `Partial` whose values were especially extreme.\n",
    "\n",
    "The next transform will flag out these outliers for the model."
   ]
  },
  {
   "cell_type": "code",
   "execution_count": 40,
   "id": "8d6a106a",
   "metadata": {
    "execution": {
     "iopub.execute_input": "2022-10-08T12:04:20.573650Z",
     "iopub.status.busy": "2022-10-08T12:04:20.573167Z",
     "iopub.status.idle": "2022-10-08T12:04:21.330187Z",
     "shell.execute_reply": "2022-10-08T12:04:21.328690Z"
    },
    "papermill": {
     "duration": 0.78969,
     "end_time": "2022-10-08T12:04:21.333170",
     "exception": false,
     "start_time": "2022-10-08T12:04:20.543480",
     "status": "completed"
    },
    "tags": []
   },
   "outputs": [
    {
     "data": {
      "image/png": "[encoded data removed]",
      "text/plain": [
       "<Figure size 720x720 with 4 Axes>"
      ]
     },
     "metadata": {},
     "output_type": "display_data"
    }
   ],
   "source": [
    "sns.catplot(\n",
    "    y=\"value\",\n",
    "    col=\"variable\",\n",
    "    data=X_pca.melt(),\n",
    "    kind='boxen',\n",
    "    sharey=False,\n",
    "    col_wrap=2,\n",
    ");"
   ]
  },
  {
   "cell_type": "code",
   "execution_count": 41,
   "id": "33711b6e",
   "metadata": {
    "execution": {
     "iopub.execute_input": "2022-10-08T12:04:21.391849Z",
     "iopub.status.busy": "2022-10-08T12:04:21.391373Z",
     "iopub.status.idle": "2022-10-08T12:04:21.417247Z",
     "shell.execute_reply": "2022-10-08T12:04:21.415827Z"
    },
    "papermill": {
     "duration": 0.059113,
     "end_time": "2022-10-08T12:04:21.420125",
     "exception": false,
     "start_time": "2022-10-08T12:04:21.361012",
     "status": "completed"
    },
    "tags": []
   },
   "outputs": [
    {
     "data": {
      "text/html": [
       "<div>\n",
       "<style scoped>\n",
       "    .dataframe tbody tr th:only-of-type {\n",
       "        vertical-align: middle;\n",
       "    }\n",
       "\n",
       "    .dataframe tbody tr th {\n",
       "        vertical-align: top;\n",
       "    }\n",
       "\n",
       "    .dataframe thead th {\n",
       "        text-align: right;\n",
       "    }\n",
       "</style>\n",
       "<table border=\"1\" class=\"dataframe\">\n",
       "  <thead>\n",
       "    <tr style=\"text-align: right;\">\n",
       "      <th></th>\n",
       "      <th>SalePrice</th>\n",
       "      <th>Neighborhood</th>\n",
       "      <th>SaleCondition</th>\n",
       "      <th>GarageArea</th>\n",
       "      <th>YearRemodAdd</th>\n",
       "      <th>TotalBsmtSF</th>\n",
       "      <th>GrLivArea</th>\n",
       "    </tr>\n",
       "  </thead>\n",
       "  <tbody>\n",
       "    <tr>\n",
       "      <th>1299</th>\n",
       "      <td>160000.0</td>\n",
       "      <td>Edwards</td>\n",
       "      <td>Partial</td>\n",
       "      <td>1418.0</td>\n",
       "      <td>2008</td>\n",
       "      <td>6110.0</td>\n",
       "      <td>5642</td>\n",
       "    </tr>\n",
       "    <tr>\n",
       "      <th>524</th>\n",
       "      <td>184750.0</td>\n",
       "      <td>Edwards</td>\n",
       "      <td>Partial</td>\n",
       "      <td>884.0</td>\n",
       "      <td>2008</td>\n",
       "      <td>3138.0</td>\n",
       "      <td>4676</td>\n",
       "    </tr>\n",
       "    <tr>\n",
       "      <th>1183</th>\n",
       "      <td>745000.0</td>\n",
       "      <td>NoRidge</td>\n",
       "      <td>Abnorml</td>\n",
       "      <td>813.0</td>\n",
       "      <td>1996</td>\n",
       "      <td>2396.0</td>\n",
       "      <td>4476</td>\n",
       "    </tr>\n",
       "    <tr>\n",
       "      <th>692</th>\n",
       "      <td>755000.0</td>\n",
       "      <td>NoRidge</td>\n",
       "      <td>Normal</td>\n",
       "      <td>832.0</td>\n",
       "      <td>1995</td>\n",
       "      <td>2444.0</td>\n",
       "      <td>4316</td>\n",
       "    </tr>\n",
       "    <tr>\n",
       "      <th>497</th>\n",
       "      <td>430000.0</td>\n",
       "      <td>NoRidge</td>\n",
       "      <td>Normal</td>\n",
       "      <td>546.0</td>\n",
       "      <td>1993</td>\n",
       "      <td>3200.0</td>\n",
       "      <td>3228</td>\n",
       "    </tr>\n",
       "    <tr>\n",
       "      <th>...</th>\n",
       "      <td>...</td>\n",
       "      <td>...</td>\n",
       "      <td>...</td>\n",
       "      <td>...</td>\n",
       "      <td>...</td>\n",
       "      <td>...</td>\n",
       "      <td>...</td>\n",
       "    </tr>\n",
       "    <tr>\n",
       "      <th>1180</th>\n",
       "      <td>93000.0</td>\n",
       "      <td>Edwards</td>\n",
       "      <td>Normal</td>\n",
       "      <td>0.0</td>\n",
       "      <td>1954</td>\n",
       "      <td>0.0</td>\n",
       "      <td>1124</td>\n",
       "    </tr>\n",
       "    <tr>\n",
       "      <th>637</th>\n",
       "      <td>60000.0</td>\n",
       "      <td>BrkSide</td>\n",
       "      <td>Normal</td>\n",
       "      <td>0.0</td>\n",
       "      <td>1950</td>\n",
       "      <td>264.0</td>\n",
       "      <td>800</td>\n",
       "    </tr>\n",
       "    <tr>\n",
       "      <th>706</th>\n",
       "      <td>55000.0</td>\n",
       "      <td>IDOTRR</td>\n",
       "      <td>Normal</td>\n",
       "      <td>0.0</td>\n",
       "      <td>1950</td>\n",
       "      <td>0.0</td>\n",
       "      <td>1092</td>\n",
       "    </tr>\n",
       "    <tr>\n",
       "      <th>1219</th>\n",
       "      <td>80500.0</td>\n",
       "      <td>BrkSide</td>\n",
       "      <td>Normal</td>\n",
       "      <td>0.0</td>\n",
       "      <td>1950</td>\n",
       "      <td>0.0</td>\n",
       "      <td>912</td>\n",
       "    </tr>\n",
       "    <tr>\n",
       "      <th>534</th>\n",
       "      <td>39300.0</td>\n",
       "      <td>BrkSide</td>\n",
       "      <td>Normal</td>\n",
       "      <td>0.0</td>\n",
       "      <td>1950</td>\n",
       "      <td>0.0</td>\n",
       "      <td>334</td>\n",
       "    </tr>\n",
       "  </tbody>\n",
       "</table>\n",
       "<p>1460 rows × 7 columns</p>\n",
       "</div>"
      ],
      "text/plain": [
       "      SalePrice Neighborhood SaleCondition  GarageArea  YearRemodAdd  \\\n",
       "1299   160000.0      Edwards       Partial      1418.0          2008   \n",
       "524    184750.0      Edwards       Partial       884.0          2008   \n",
       "1183   745000.0      NoRidge       Abnorml       813.0          1996   \n",
       "692    755000.0      NoRidge        Normal       832.0          1995   \n",
       "497    430000.0      NoRidge        Normal       546.0          1993   \n",
       "...         ...          ...           ...         ...           ...   \n",
       "1180    93000.0      Edwards        Normal         0.0          1954   \n",
       "637     60000.0      BrkSide        Normal         0.0          1950   \n",
       "706     55000.0       IDOTRR        Normal         0.0          1950   \n",
       "1219    80500.0      BrkSide        Normal         0.0          1950   \n",
       "534     39300.0      BrkSide        Normal         0.0          1950   \n",
       "\n",
       "      TotalBsmtSF  GrLivArea  \n",
       "1299       6110.0       5642  \n",
       "524        3138.0       4676  \n",
       "1183       2396.0       4476  \n",
       "692        2444.0       4316  \n",
       "497        3200.0       3228  \n",
       "...           ...        ...  \n",
       "1180          0.0       1124  \n",
       "637         264.0        800  \n",
       "706           0.0       1092  \n",
       "1219          0.0        912  \n",
       "534           0.0        334  \n",
       "\n",
       "[1460 rows x 7 columns]"
      ]
     },
     "execution_count": 41,
     "metadata": {},
     "output_type": "execute_result"
    }
   ],
   "source": [
    "# You can change PC1 to PC2, PC3, or PC4\n",
    "component = \"PC1\"\n",
    "\n",
    "features = [\n",
    "    \"GarageArea\",\n",
    "    \"YearRemodAdd\",\n",
    "    \"TotalBsmtSF\",\n",
    "    \"GrLivArea\",\n",
    "]\n",
    "\n",
    "idx = X_pca[component].sort_values(ascending=False).index\n",
    "df.loc[idx, [\"SalePrice\", \"Neighborhood\", \"SaleCondition\"] + features]"
   ]
  },
  {
   "cell_type": "markdown",
   "id": "fcc33736",
   "metadata": {
    "papermill": {
     "duration": 0.027173,
     "end_time": "2022-10-08T12:04:21.476323",
     "exception": false,
     "start_time": "2022-10-08T12:04:21.449150",
     "status": "completed"
    },
    "tags": []
   },
   "source": [
    "Looking through the data, it looks like sales in the `Neighborhood` Edwards and with `SaleCondition` Partial are the outliers."
   ]
  },
  {
   "cell_type": "code",
   "execution_count": 42,
   "id": "75628925",
   "metadata": {
    "execution": {
     "iopub.execute_input": "2022-10-08T12:04:21.533227Z",
     "iopub.status.busy": "2022-10-08T12:04:21.532713Z",
     "iopub.status.idle": "2022-10-08T12:04:24.758851Z",
     "shell.execute_reply": "2022-10-08T12:04:24.757744Z"
    },
    "papermill": {
     "duration": 3.258198,
     "end_time": "2022-10-08T12:04:24.761765",
     "exception": false,
     "start_time": "2022-10-08T12:04:21.503567",
     "status": "completed"
    },
    "tags": []
   },
   "outputs": [
    {
     "name": "stdout",
     "output_type": "stream",
     "text": [
      "Baseline score: 0.14351\n",
      "Score after adding indicating outliers: 0.14351 RMSLE\n"
     ]
    }
   ],
   "source": [
    "def indicate_outliers(df):\n",
    "    X_new = pd.DataFrame()\n",
    "    X_new[\"Outlier\"] = (df.Neighborhood == \"Edwards\") & (df.SaleCondition == \"Partial\")\n",
    "    return X_new\n",
    "\n",
    "# Check effectiveness\n",
    "X = df_train.copy()\n",
    "y = X.pop(\"SalePrice\")\n",
    "X = X.join(indicate_outliers(X))\n",
    "\n",
    "score = score_dataset(X, y)\n",
    "print(f\"Baseline score: {baseline_score:.5f}\")\n",
    "print(f\"Score after adding indicating outliers: {score:.5f} RMSLE\")"
   ]
  },
  {
   "cell_type": "markdown",
   "id": "27c6fa97",
   "metadata": {
    "papermill": {
     "duration": 0.027385,
     "end_time": "2022-10-08T12:04:24.817725",
     "exception": false,
     "start_time": "2022-10-08T12:04:24.790340",
     "status": "completed"
    },
    "tags": []
   },
   "source": [
    "We can also consider applying some sort of robust scaler from scikit-learn's `sklearn.preprocessing` module to the outlying values, especially those in `GrLivArea`. [Here](https://scikit-learn.org/stable/auto_examples/preprocessing/plot_all_scaling.html) is a tutorial illustrating some of them. Another option could be to create a feature of \"outlier scores\" using one of scikit-learn's [outlier detectors](https://scikit-learn.org/stable/modules/outlier_detection.html)."
   ]
  },
  {
   "cell_type": "markdown",
   "id": "afaaa5c4",
   "metadata": {
    "papermill": {
     "duration": 0.027339,
     "end_time": "2022-10-08T12:04:24.872805",
     "exception": false,
     "start_time": "2022-10-08T12:04:24.845466",
     "status": "completed"
    },
    "tags": []
   },
   "source": [
    "## Target Encoding ##\n",
    "\n",
    "A target encoding is any kind of encoding that replaces a feature's categories with some number derived from the target. For example, replacing neighborhoods with the average price of the houses in that neighborhood. Good candidates for target encoding have a large number of categories.\n",
    "\n",
    "However, needing a separate holdout set to create a target encoding is rather wasteful of data. There is a way we can use target encoding without having to use held-out encoding data. It's basically the same trick used in cross-validation:\n",
    "1. Split the data into folds, each fold having two splits of the dataset.\n",
    "2. Train the encoder on one split but transform the values of the other.\n",
    "3. Repeat for all the splits.\n",
    "\n",
    "This way, training and transformation always take place on independent sets of data, just like when you use a holdout set but without any data going to waste.\n",
    "\n",
    "In the next hidden cell is a wrapper we can use with any target encoder:"
   ]
  },
  {
   "cell_type": "code",
   "execution_count": 43,
   "id": "ce525437",
   "metadata": {
    "_kg_hide-input": true,
    "execution": {
     "iopub.execute_input": "2022-10-08T12:04:24.930113Z",
     "iopub.status.busy": "2022-10-08T12:04:24.929632Z",
     "iopub.status.idle": "2022-10-08T12:04:24.942229Z",
     "shell.execute_reply": "2022-10-08T12:04:24.940816Z"
    },
    "papermill": {
     "duration": 0.044051,
     "end_time": "2022-10-08T12:04:24.944585",
     "exception": false,
     "start_time": "2022-10-08T12:04:24.900534",
     "status": "completed"
    },
    "tags": []
   },
   "outputs": [],
   "source": [
    "class CrossFoldEncoder:\n",
    "    def __init__(self, encoder, **kwargs):\n",
    "        self.encoder_ = encoder\n",
    "        self.kwargs_ = kwargs  # keyword arguments for the encoder\n",
    "        self.cv_ = KFold(n_splits=5)\n",
    "\n",
    "    # Fit an encoder on one split and transform the feature on the\n",
    "    # other. Iterating over the splits in all folds gives a complete\n",
    "    # transformation. We also now have one trained encoder on each\n",
    "    # fold.\n",
    "    def fit_transform(self, X, y, cols):\n",
    "        self.fitted_encoders_ = []\n",
    "        self.cols_ = cols\n",
    "        X_encoded = []\n",
    "        for idx_encode, idx_train in self.cv_.split(X):\n",
    "            fitted_encoder = self.encoder_(cols=cols, **self.kwargs_)\n",
    "            fitted_encoder.fit(\n",
    "                X.iloc[idx_encode, :], y.iloc[idx_encode],\n",
    "            )\n",
    "            X_encoded.append(fitted_encoder.transform(X.iloc[idx_train, :])[cols])\n",
    "            self.fitted_encoders_.append(fitted_encoder)\n",
    "        X_encoded = pd.concat(X_encoded)\n",
    "        X_encoded.columns = [name + \"_encoded\" for name in X_encoded.columns]\n",
    "        return X_encoded\n",
    "\n",
    "    # To transform the test data, average the encodings learned from\n",
    "    # each fold.\n",
    "    def transform(self, X):\n",
    "        from functools import reduce\n",
    "\n",
    "        X_encoded_list = []\n",
    "        for fitted_encoder in self.fitted_encoders_:\n",
    "            X_encoded = fitted_encoder.transform(X)\n",
    "            X_encoded_list.append(X_encoded[self.cols_])\n",
    "        X_encoded = reduce(\n",
    "            lambda x, y: x.add(y, fill_value=0), X_encoded_list\n",
    "        ) / len(X_encoded_list)\n",
    "        X_encoded.columns = [name + \"_encoded\" for name in X_encoded.columns]\n",
    "        return X_encoded\n"
   ]
  },
  {
   "cell_type": "markdown",
   "id": "379f6206",
   "metadata": {
    "papermill": {
     "duration": 0.028305,
     "end_time": "2022-10-08T12:04:25.000649",
     "exception": false,
     "start_time": "2022-10-08T12:04:24.972344",
     "status": "completed"
    },
    "tags": []
   },
   "source": [
    "Use it like:\n",
    "\n",
    "```\n",
    "encoder = CrossFoldEncoder(MEstimateEncoder, m=1)\n",
    "X_encoded = encoder.fit_transform(X, y, cols=[\"MSSubClass\"]))\n",
    "```\n",
    "\n",
    "We can turn any of the encoders from the [`category_encoders`](http://contrib.scikit-learn.org/category_encoders/) library into a cross-fold encoder. The [`CatBoostEncoder`](http://contrib.scikit-learn.org/category_encoders/catboost.html) would be worth trying. It's similar to `MEstimateEncoder` but uses some tricks to better prevent overfitting. Its smoothing parameter is called `a` instead of `m`.\n",
    "\n",
    "### Encoding\n",
    "We list the categorical data types and find the ones with the most categories to be used when we create the final feature set at the end. Let's use Neighborhood and MSSubClass."
   ]
  },
  {
   "cell_type": "code",
   "execution_count": 44,
   "id": "4e65aa57",
   "metadata": {
    "execution": {
     "iopub.execute_input": "2022-10-08T12:04:25.059309Z",
     "iopub.status.busy": "2022-10-08T12:04:25.058505Z",
     "iopub.status.idle": "2022-10-08T12:04:25.081472Z",
     "shell.execute_reply": "2022-10-08T12:04:25.080108Z"
    },
    "papermill": {
     "duration": 0.055097,
     "end_time": "2022-10-08T12:04:25.084215",
     "exception": false,
     "start_time": "2022-10-08T12:04:25.029118",
     "status": "completed"
    },
    "tags": []
   },
   "outputs": [
    {
     "data": {
      "text/plain": [
       "Neighborhood    25\n",
       "Exterior2nd     16\n",
       "Exterior1st     15\n",
       "MSSubClass      15\n",
       "OverallQual     10\n",
       "OverallCond      9\n",
       "SaleType         9\n",
       "Condition1       9\n",
       "Condition2       8\n",
       "HouseStyle       8\n",
       "dtype: int64"
      ]
     },
     "execution_count": 44,
     "metadata": {},
     "output_type": "execute_result"
    }
   ],
   "source": [
    "df_train.select_dtypes([\"category\"]).nunique().sort_values(ascending=False).head(10)"
   ]
  },
  {
   "cell_type": "code",
   "execution_count": 45,
   "id": "0fbc83f3",
   "metadata": {
    "execution": {
     "iopub.execute_input": "2022-10-08T12:04:25.142681Z",
     "iopub.status.busy": "2022-10-08T12:04:25.141939Z",
     "iopub.status.idle": "2022-10-08T12:04:29.535790Z",
     "shell.execute_reply": "2022-10-08T12:04:29.534529Z"
    },
    "papermill": {
     "duration": 4.426311,
     "end_time": "2022-10-08T12:04:29.538481",
     "exception": false,
     "start_time": "2022-10-08T12:04:25.112170",
     "status": "completed"
    },
    "tags": []
   },
   "outputs": [
    {
     "name": "stdout",
     "output_type": "stream",
     "text": [
      "Baseline score: 0.14351\n",
      "Score after target encoding: 0.13929 RMSLE\n"
     ]
    }
   ],
   "source": [
    "# Check effectiveness\n",
    "X = df_train.copy()\n",
    "y = X.pop(\"SalePrice\")\n",
    "encoder = CrossFoldEncoder(MEstimateEncoder, m=1)\n",
    "X = X.join(encoder.fit_transform(X, y, cols=[\"Neighborhood\", \"MSSubClass\"]))\n",
    "\n",
    "score = score_dataset(X, y)\n",
    "print(f\"Baseline score: {baseline_score:.5f}\")\n",
    "print(f\"Score after target encoding: {score:.5f} RMSLE\")"
   ]
  },
  {
   "cell_type": "markdown",
   "id": "33eb8640",
   "metadata": {
    "papermill": {
     "duration": 0.029467,
     "end_time": "2022-10-08T12:04:29.596746",
     "exception": false,
     "start_time": "2022-10-08T12:04:29.567279",
     "status": "completed"
    },
    "tags": []
   },
   "source": [
    "## Create Final Feature Set ##\n",
    "\n",
    "Now let's combine everything together. Putting the transformations into separate functions makes it easier to experiment with various combinations. The ones left uncommented worsened results in testing."
   ]
  },
  {
   "cell_type": "code",
   "execution_count": 46,
   "id": "cf08d522",
   "metadata": {
    "execution": {
     "iopub.execute_input": "2022-10-08T12:04:29.658024Z",
     "iopub.status.busy": "2022-10-08T12:04:29.656911Z",
     "iopub.status.idle": "2022-10-08T12:04:35.533877Z",
     "shell.execute_reply": "2022-10-08T12:04:35.532450Z"
    },
    "papermill": {
     "duration": 5.910627,
     "end_time": "2022-10-08T12:04:35.537223",
     "exception": false,
     "start_time": "2022-10-08T12:04:29.626596",
     "status": "completed"
    },
    "tags": []
   },
   "outputs": [
    {
     "name": "stdout",
     "output_type": "stream",
     "text": [
      "Baseline score: 0.14351\n",
      "Score after all features: 0.13583 RMSLE\n"
     ]
    }
   ],
   "source": [
    "def create_features(df, df_test=None):\n",
    "    X = df.copy()\n",
    "    y = X.pop(\"SalePrice\")\n",
    "    mi_scores = make_mi_scores(X, y)\n",
    "\n",
    "    # Combine splits if test data is given\n",
    "    #\n",
    "    # If we're creating features for test set predictions, we should\n",
    "    # use all the data we have available. After creating our features,\n",
    "    # we'll recreate the splits.\n",
    "    if df_test is not None:\n",
    "        X_test = df_test.copy()\n",
    "        X_test.pop(\"SalePrice\")\n",
    "        X = pd.concat([X, X_test])\n",
    "\n",
    "    # Mutual Information\n",
    "    X = drop_uninformative(X, mi_scores)\n",
    "\n",
    "    # Transformations\n",
    "    X = X.join(mathematical_transforms(X))\n",
    "    X = X.join(interactions(X))\n",
    "    X = X.join(counts(X))\n",
    "    X = X.join(group_transforms(X))\n",
    "\n",
    "    # Clustering\n",
    "    # X = X.join(cluster_labels(X, cluster_features, n_clusters=20))\n",
    "    # X = X.join(cluster_distance(X, cluster_features, n_clusters=20))\n",
    "\n",
    "    # PCA\n",
    "    X = X.join(pca_inspired(X))\n",
    "    # X = X.join(pca_components(X, pca_features))\n",
    "    # X = X.join(indicate_outliers(X))\n",
    "    \n",
    "    # Label Encode\n",
    "    X = label_encode(X)\n",
    "\n",
    "    # Reform splits\n",
    "    if df_test is not None:\n",
    "        X_test = X.loc[df_test.index, :]\n",
    "        X.drop(df_test.index, inplace=True)\n",
    "\n",
    "    # Target Encoder\n",
    "    encoder = CrossFoldEncoder(MEstimateEncoder, m=1)\n",
    "    X = X.join(encoder.fit_transform(X, y, cols=[\"MSSubClass\"]))\n",
    "    if df_test is not None:\n",
    "        X_test = X_test.join(encoder.transform(X_test))\n",
    "\n",
    "    if df_test is not None:\n",
    "        return X, X_test\n",
    "    else:\n",
    "        return X\n",
    "\n",
    "\n",
    "df_train, df_test = load_data()\n",
    "X_train, X_test = create_features(df_train, df_test)\n",
    "y_train = df_train.loc[:, \"SalePrice\"]\n",
    "\n",
    "score = score_dataset(X_train, y_train)\n",
    "print(f\"Baseline score: {baseline_score:.5f}\")\n",
    "print(f\"Score after all features: {score:.5f} RMSLE\")"
   ]
  },
  {
   "cell_type": "markdown",
   "id": "a432673f",
   "metadata": {
    "papermill": {
     "duration": 0.030266,
     "end_time": "2022-10-08T12:04:35.597137",
     "exception": false,
     "start_time": "2022-10-08T12:04:35.566871",
     "status": "completed"
    },
    "tags": []
   },
   "source": [
    "# Step 4 - Hyperparameter Tuning #\n",
    "\n",
    "At this stage, we should do some hyperparameter tuning with XGBoost before creating the final submission."
   ]
  },
  {
   "cell_type": "code",
   "execution_count": 47,
   "id": "818d0f19",
   "metadata": {
    "execution": {
     "iopub.execute_input": "2022-10-08T12:04:35.656689Z",
     "iopub.status.busy": "2022-10-08T12:04:35.656162Z",
     "iopub.status.idle": "2022-10-08T12:05:05.260974Z",
     "shell.execute_reply": "2022-10-08T12:05:05.259738Z"
    },
    "papermill": {
     "duration": 29.637559,
     "end_time": "2022-10-08T12:05:05.263815",
     "exception": false,
     "start_time": "2022-10-08T12:04:35.626256",
     "status": "completed"
    },
    "tags": []
   },
   "outputs": [
    {
     "data": {
      "text/plain": [
       "0.12200873273962552"
      ]
     },
     "execution_count": 47,
     "metadata": {},
     "output_type": "execute_result"
    }
   ],
   "source": [
    "X_train = create_features(df_train)\n",
    "y_train = df_train.loc[:, \"SalePrice\"]\n",
    "\n",
    "xgb_params = dict(\n",
    "    max_depth=6,           # maximum depth of each tree - try 2 to 10\n",
    "    learning_rate=0.01,    # effect of each tree - try 0.0001 to 0.1\n",
    "    n_estimators=1000,     # number of trees (that is, boosting rounds) - try 1000 to 8000\n",
    "    min_child_weight=1,    # minimum number of houses in a leaf - try 1 to 10\n",
    "    colsample_bytree=0.7,  # fraction of features (columns) per tree - try 0.2 to 1.0\n",
    "    subsample=0.7,         # fraction of instances (rows) per tree - try 0.2 to 1.0\n",
    "    reg_alpha=0.5,         # L1 regularization (like LASSO) - try 0.0 to 10.0\n",
    "    reg_lambda=1.0,        # L2 regularization (like Ridge) - try 0.0 to 10.0\n",
    "    num_parallel_tree=1,   # set > 1 for boosted random forests\n",
    ")\n",
    "\n",
    "xgb = XGBRegressor(**xgb_params)\n",
    "score_dataset(X_train, y_train, xgb)"
   ]
  },
  {
   "cell_type": "code",
   "execution_count": 48,
   "id": "4784732f",
   "metadata": {
    "execution": {
     "iopub.execute_input": "2022-10-08T12:05:05.324258Z",
     "iopub.status.busy": "2022-10-08T12:05:05.323495Z",
     "iopub.status.idle": "2022-10-08T12:31:13.544628Z",
     "shell.execute_reply": "2022-10-08T12:31:13.543315Z"
    },
    "papermill": {
     "duration": 1568.284423,
     "end_time": "2022-10-08T12:31:13.577633",
     "exception": false,
     "start_time": "2022-10-08T12:05:05.293210",
     "status": "completed"
    },
    "tags": []
   },
   "outputs": [
    {
     "name": "stdout",
     "output_type": "stream",
     "text": [
      "CPU times: user 1h 41min 4s, sys: 32.3 s, total: 1h 41min 36s\n",
      "Wall time: 26min 8s\n"
     ]
    },
    {
     "data": {
      "text/plain": [
       "RandomizedSearchCV(estimator=XGBRegressor(base_score=None, booster=None,\n",
       "                                          callbacks=None,\n",
       "                                          colsample_bylevel=None,\n",
       "                                          colsample_bynode=None,\n",
       "                                          colsample_bytree=None,\n",
       "                                          early_stopping_rounds=None,\n",
       "                                          enable_categorical=False,\n",
       "                                          eval_metric=None, gamma=None,\n",
       "                                          gpu_id=None, grow_policy=None,\n",
       "                                          importance_type=None,\n",
       "                                          interaction_constraints=None,\n",
       "                                          learning_rate=None, max_bin=None,\n",
       "                                          max_ca...\n",
       "                                        'max_depth': array([ 2,  3,  4,  5,  6,  7,  8,  9, 10]),\n",
       "                                        'min_child_weight': array([ 1,  2,  3,  4,  5,  6,  7,  8,  9, 10]),\n",
       "                                        'n_estimators': array([1000, 2000, 3000, 4000, 5000, 6000, 7000, 8000]),\n",
       "                                        'num_parallel_tree': array([1, 2, 3, 4]),\n",
       "                                        'reg_alpha': array([ 0,  1,  2,  3,  4,  5,  6,  7,  8,  9, 10]),\n",
       "                                        'reg_lambda': array([ 0,  1,  2,  3,  4,  5,  6,  7,  8,  9, 10]),\n",
       "                                        'subsample': array([0.2, 0.3, 0.4, 0.5, 0.6, 0.7, 0.8, 0.9, 1. ])},\n",
       "                   scoring='neg_mean_squared_error')"
      ]
     },
     "execution_count": 48,
     "metadata": {},
     "output_type": "execute_result"
    }
   ],
   "source": [
    "%%time\n",
    "# Using RandomizedSearchCV to tune hyperparameters\n",
    "parameters = dict(\n",
    "    max_depth=np.arange(2,11),                      # maximum depth of each tree - try 2 to 10\n",
    "    learning_rate=[0.0001,0.001,0.01,0.1],    # effect of each tree - try 0.0001 to 0.1\n",
    "    n_estimators=np.arange(1,9)*1000,     # number of trees (that is, boosting rounds) - try 1000 to 8000\n",
    "    min_child_weight=np.arange(1,11),    # minimum number of houses in a leaf - try 1 to 10\n",
    "    colsample_bytree=np.arange(2,11)*0.1,  # fraction of features (columns) per tree - try 0.2 to 1.0\n",
    "    subsample=np.arange(2,11)*0.1,         # fraction of instances (rows) per tree - try 0.2 to 1.0\n",
    "    reg_alpha=np.arange(0,11),         # L1 regularization (like LASSO) - try 0.0 to 10.0\n",
    "    reg_lambda=np.arange(0,11),        # L2 regularization (like Ridge) - try 0.0 to 10.0\n",
    "    num_parallel_tree=np.arange(1,5),   # set > 1 for boosted random forests\n",
    ")\n",
    "\n",
    "hptuner = RandomizedSearchCV(XGBRegressor(), parameters, scoring = \"neg_mean_squared_error\")\n",
    "\n",
    "X_train, X_test = create_features(df_train, df_test)\n",
    "y_train = df_train.loc[:, \"SalePrice\"]\n",
    "hptuner.fit(X_train, np.log(y_train))"
   ]
  },
  {
   "cell_type": "code",
   "execution_count": 49,
   "id": "506ea869",
   "metadata": {
    "execution": {
     "iopub.execute_input": "2022-10-08T12:31:13.637012Z",
     "iopub.status.busy": "2022-10-08T12:31:13.636513Z",
     "iopub.status.idle": "2022-10-08T12:35:26.555570Z",
     "shell.execute_reply": "2022-10-08T12:35:26.554066Z"
    },
    "papermill": {
     "duration": 252.979485,
     "end_time": "2022-10-08T12:35:26.586618",
     "exception": false,
     "start_time": "2022-10-08T12:31:13.607133",
     "status": "completed"
    },
    "tags": []
   },
   "outputs": [
    {
     "name": "stdout",
     "output_type": "stream",
     "text": [
      "{'subsample': 0.8, 'reg_lambda': 1, 'reg_alpha': 2, 'num_parallel_tree': 4, 'n_estimators': 7000, 'min_child_weight': 10, 'max_depth': 5, 'learning_rate': 0.1, 'colsample_bytree': 1.0}\n",
      "0.12225215062365566\n"
     ]
    }
   ],
   "source": [
    "xgb_params = hptuner.best_params_\n",
    "print(xgb_params)\n",
    "\n",
    "# hptuner_score = hptuner.score(X_train, np.log(y_train))\n",
    "# print(np.sqrt(-1*hptuner_score))\n",
    "\n",
    "xgb = XGBRegressor(**xgb_params)\n",
    "print(score_dataset(X_train, y_train, xgb, encoding = None))"
   ]
  },
  {
   "cell_type": "markdown",
   "id": "b5ce23f1",
   "metadata": {
    "papermill": {
     "duration": 0.027645,
     "end_time": "2022-10-08T12:35:26.642535",
     "exception": false,
     "start_time": "2022-10-08T12:35:26.614890",
     "status": "completed"
    },
    "tags": []
   },
   "source": [
    "Just tuning these by hand can give you great results. However, you might like to try using one of scikit-learn's automatic [hyperparameter tuners](https://scikit-learn.org/stable/modules/grid_search.html). Or you could explore more advanced tuning libraries like [Optuna](https://optuna.readthedocs.io/en/stable/index.html) or [scikit-optimize](https://scikit-optimize.github.io/stable/).\n",
    "\n",
    "Here is how you can use Optuna with XGBoost:\n",
    "\n",
    "```\n",
    "import optuna\n",
    "\n",
    "def objective(trial):\n",
    "    xgb_params = dict(\n",
    "        max_depth=trial.suggest_int(\"max_depth\", 2, 10),\n",
    "        learning_rate=trial.suggest_float(\"learning_rate\", 1e-4, 1e-1, log=True),\n",
    "        n_estimators=trial.suggest_int(\"n_estimators\", 1000, 8000),\n",
    "        min_child_weight=trial.suggest_int(\"min_child_weight\", 1, 10),\n",
    "        colsample_bytree=trial.suggest_float(\"colsample_bytree\", 0.2, 1.0),\n",
    "        subsample=trial.suggest_float(\"subsample\", 0.2, 1.0),\n",
    "        reg_alpha=trial.suggest_float(\"reg_alpha\", 1e-4, 1e2, log=True),\n",
    "        reg_lambda=trial.suggest_float(\"reg_lambda\", 1e-4, 1e2, log=True),\n",
    "    )\n",
    "    xgb = XGBRegressor(**xgb_params)\n",
    "    return score_dataset(X_train, y_train, xgb)\n",
    "\n",
    "study = optuna.create_study(direction=\"minimize\")\n",
    "study.optimize(objective, n_trials=20)\n",
    "xgb_params = study.best_params\n",
    "```\n",
    "\n",
    "Copy this into a code cell if you'd like to use it, but be aware that it will take quite a while to run. After it's done, you might enjoy using some of [Optuna's visualizations](https://optuna.readthedocs.io/en/stable/tutorial/10_key_features/005_visualization.html).\n",
    "\n",
    "# Step 5 - Train Model and Create Submissions #\n",
    "\n",
    "Once you're satisfied with everything, it's time to create your final predictions! This cell will:\n",
    "- create your feature set from the original data\n",
    "- train XGBoost on the training data\n",
    "- use the trained model to make predictions from the test set\n",
    "- save the predictions to a CSV file"
   ]
  },
  {
   "cell_type": "code",
   "execution_count": 50,
   "id": "6bd8c75f",
   "metadata": {
    "execution": {
     "iopub.execute_input": "2022-10-08T12:35:26.804145Z",
     "iopub.status.busy": "2022-10-08T12:35:26.803646Z",
     "iopub.status.idle": "2022-10-08T12:36:29.169995Z",
     "shell.execute_reply": "2022-10-08T12:36:29.168713Z"
    },
    "papermill": {
     "duration": 62.529891,
     "end_time": "2022-10-08T12:36:29.200811",
     "exception": false,
     "start_time": "2022-10-08T12:35:26.670920",
     "status": "completed"
    },
    "tags": []
   },
   "outputs": [
    {
     "name": "stdout",
     "output_type": "stream",
     "text": [
      "Your submission was successfully saved!\n"
     ]
    }
   ],
   "source": [
    "X_train, X_test = create_features(df_train, df_test)\n",
    "y_train = df_train.loc[:, \"SalePrice\"]\n",
    "\n",
    "xgb = XGBRegressor(**xgb_params)\n",
    "# XGB minimizes MSE, but competition loss is RMSLE\n",
    "# So, we need to log-transform y to train and exp-transform the predictions\n",
    "xgb.fit(X_train, np.log(y_train))\n",
    "predictions = np.exp(xgb.predict(X_test))\n",
    "\n",
    "output = pd.DataFrame({'Id': X_test.index, 'SalePrice': predictions})\n",
    "output.to_csv('submission.csv', index=False)\n",
    "print(\"Your submission was successfully saved!\")"
   ]
  },
  {
   "cell_type": "markdown",
   "id": "c000f200",
   "metadata": {
    "papermill": {
     "duration": 0.029364,
     "end_time": "2022-10-08T12:36:29.259402",
     "exception": false,
     "start_time": "2022-10-08T12:36:29.230038",
     "status": "completed"
    },
    "tags": []
   },
   "source": [
    "To submit these predictions to the competition, follow these steps:\n",
    "\n",
    "1. Begin by clicking on the blue **Save Version** button in the top right corner of the window.  This will generate a pop-up window.\n",
    "2. Ensure that the **Save and Run All** option is selected, and then click on the blue **Save** button.\n",
    "3. This generates a window in the bottom left corner of the notebook.  After it has finished running, click on the number to the right of the **Save Version** button.  This pulls up a list of versions on the right of the screen.  Click on the ellipsis **(...)** to the right of the most recent version, and select **Open in Viewer**.  This brings you into view mode of the same page. You will need to scroll down to get back to these instructions.\n",
    "4. Click on the **Output** tab on the right of the screen.  Then, click on the file you would like to submit, and click on the blue **Submit** button to submit your results to the leaderboard.\n",
    "\n",
    "You have now successfully submitted to the competition!\n",
    "\n",
    "# Next Steps #\n",
    "\n",
    "If you want to keep working to improve your performance, select the blue **Edit** button in the top right of the screen. Then you can change your code and repeat the process. There's a lot of room to improve, and you will climb up the leaderboard as you work.\n",
    "\n",
    "Be sure to check out [other users' notebooks](https://www.kaggle.com/c/house-prices-advanced-regression-techniques/notebooks) in this competition. You'll find lots of great ideas for new features and as well as other ways to discover more things about the dataset or make better predictions. There's also the [discussion forum](https://www.kaggle.com/c/house-prices-advanced-regression-techniques/discussion), where you can share ideas with other Kagglers.\n",
    "\n",
    "Have fun Kaggling!"
   ]
  },
  {
   "cell_type": "markdown",
   "id": "3a94135e",
   "metadata": {
    "papermill": {
     "duration": 0.027919,
     "end_time": "2022-10-08T12:36:29.316011",
     "exception": false,
     "start_time": "2022-10-08T12:36:29.288092",
     "status": "completed"
    },
    "tags": []
   },
   "source": [
    "---\n",
    "\n",
    "\n",
    "\n",
    "\n",
    "*Have questions or comments? Visit the [course discussion forum](https://www.kaggle.com/learn/feature-engineering/discussion) to chat with other learners.*"
   ]
  }
 ],
 "metadata": {
  "kernelspec": {
   "display_name": "Python 3",
   "language": "python",
   "name": "python3"
  },
  "language_info": {
   "codemirror_mode": {
    "name": "ipython",
    "version": 3
   },
   "file_extension": ".py",
   "mimetype": "text/x-python",
   "name": "python",
   "nbconvert_exporter": "python",
   "pygments_lexer": "ipython3",
   "version": "3.7.12"
  },
  "papermill": {
   "default_parameters": {},
   "duration": 2016.411043,
   "end_time": "2022-10-08T12:36:30.274889",
   "environment_variables": {},
   "exception": null,
   "input_path": "__notebook__.ipynb",
   "output_path": "__notebook__.ipynb",
   "parameters": {},
   "start_time": "2022-10-08T12:02:53.863846",
   "version": "2.3.4"
  }
 },
 "nbformat": 4,
 "nbformat_minor": 5
}
